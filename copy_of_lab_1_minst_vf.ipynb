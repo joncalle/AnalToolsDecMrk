{
  "cells": [
    {
      "cell_type": "markdown",
      "metadata": {
        "id": "view-in-github",
        "colab_type": "text"
      },
      "source": [
        "<a href=\"https://colab.research.google.com/github/joncalle/AnalToolsDecMrk/blob/main/copy_of_lab_1_minst_vf.ipynb\" target=\"_parent\"><img src=\"https://colab.research.google.com/assets/colab-badge.svg\" alt=\"Open In Colab\"/></a>"
      ]
    },
    {
      "cell_type": "markdown",
      "metadata": {
        "tags": [],
        "id": "f0VqqheB9gLA"
      },
      "source": [
        "# Lab 1: Keras and MNIST (35 Marks)\n",
        "\n",
        "**This is a modified version of the original notebook by Francois Chollet.**"
      ]
    },
    {
      "cell_type": "markdown",
      "source": [
        "## **Group - 9**\n",
        "*   Danielle do Val Goncalves Tudeia - W0823569\n",
        "*   Fernanda Barbieri de Camargo - W0825882\n",
        "*   Jonathan Calle - W0825959\n",
        "*   Jonathan Oteh - W0775057\n",
        "\n",
        "\n",
        "\n",
        "\n",
        "\n"
      ],
      "metadata": {
        "id": "wQ9XZcBc_3Fz"
      }
    },
    {
      "cell_type": "markdown",
      "metadata": {
        "tags": [],
        "id": "xGg5n-GT9gLB"
      },
      "source": [
        "## Objectives\n",
        "\n",
        "By the end of this lab, you should be able to:\n",
        " - explain the role of train, validation, and test sets and understand why the tutorial is  only using train and test\n",
        " - explain the tensor (data) shapes of (28, 28), (60000, 28, 28), (784,), and (60000, 784); what they mean and where they come from\n",
        " - explain one-hot encoding of the label data\n",
        " - sketch (on paper) the architecture/structure of the model being used\n",
        " - calculate by hand how many parameters (weights and biases) the network is using  \n",
        " - understand the output of model.summary() and use to verify the parameter calculation done above\n",
        " - explain why this neural network has 10 output neurons\n",
        " - provide basic explanations for the terms *optimizer*, *loss*, and *metric*\n",
        " - explain what an *epoch* is\n",
        " - explain what is meant by *batch size* and how it is connected to model learning\n",
        " - explain the difference between training a network and testing a network\n",
        " - give a brief explanation of the softmax function and how it is being used"
      ]
    },
    {
      "cell_type": "markdown",
      "metadata": {
        "id": "ucstVChn9gLC"
      },
      "source": [
        "We will now take a look at a first concrete example of a neural network, which makes use of the Python library Keras to learn to classify hand-written digits. Unless you already have experience with Keras or similar libraries, you will not understand everything about this first example right away. Don't worry, that is perfectly fine. We've got to start somewhere.\n",
        "\n",
        "The problem we are trying to solve here is to classify grayscale images of handwritten digits (28 pixels by 28 pixels), into their 10 categories (0 to 9). The dataset we will use is the MNIST dataset, a classic dataset in the machine learning community, which has been around for almost as long as the field itself and has been very intensively studied. It's a set of 60,000 training images, plus 10,000 test images, assembled by the National Institute of Standards and Technology (the NIST in MNIST) in the 1980s. You can think of \"solving\" MNIST as the \"Hello World\" of deep learning -- it's what you do to verify that your algorithms are working as expected. As you become a machine learning practitioner, you will see MNIST come up over and over again, in scientific papers, blog posts, and so on.\n",
        "\n",
        "The MNIST dataset comes pre-loaded in Keras, in the form of a set of four Numpy arrays:"
      ]
    },
    {
      "cell_type": "code",
      "execution_count": null,
      "metadata": {
        "id": "ZSZVkKih9gLD"
      },
      "outputs": [],
      "source": [
        "from tensorflow.keras.datasets import mnist\n",
        "\n",
        "(train_images, train_labels), (test_images, test_labels) = mnist.load_data()"
      ]
    },
    {
      "cell_type": "markdown",
      "metadata": {
        "id": "5lfCgDDl9gLD"
      },
      "source": [
        "`train_images` and `train_labels` form the \"training set\", the data that the model will learn from. The model will then be tested on the\n",
        "\"test set\", `test_images` and `test_labels`. Our images are encoded as Numpy arrays, and the labels are simply an array of digits, ranging\n",
        "from 0 to 9. There is a one-to-one correspondence between the images and the labels.\n",
        "\n",
        "Let's have a look at the training data:"
      ]
    },
    {
      "cell_type": "code",
      "execution_count": null,
      "metadata": {
        "id": "6HU3YL6t9gLE",
        "outputId": "ce1cd051-aa54-4598-b3ea-a2dcd4f72884",
        "colab": {
          "base_uri": "https://localhost:8080/",
          "height": 447
        }
      },
      "outputs": [
        {
          "output_type": "execute_result",
          "data": {
            "text/plain": [
              "<matplotlib.image.AxesImage at 0x7dbb57763340>"
            ]
          },
          "metadata": {},
          "execution_count": 27
        },
        {
          "output_type": "display_data",
          "data": {
            "text/plain": [
              "<Figure size 640x480 with 1 Axes>"
            ],
            "image/png": "[encoded data removed]"
          },
          "metadata": {}
        }
      ],
      "source": [
        "import matplotlib.pyplot as plt\n",
        "\n",
        "plt.imshow(train_images[1], cmap='gray')"
      ]
    },
    {
      "cell_type": "code",
      "execution_count": null,
      "metadata": {
        "id": "2iajyGuX9gLE",
        "outputId": "9a627bbf-5ece-4ad6-f518-0b216f448745",
        "colab": {
          "base_uri": "https://localhost:8080/"
        }
      },
      "outputs": [
        {
          "output_type": "execute_result",
          "data": {
            "text/plain": [
              "(60000, 28, 28)"
            ]
          },
          "metadata": {},
          "execution_count": 28
        }
      ],
      "source": [
        "train_images.shape"
      ]
    },
    {
      "cell_type": "code",
      "execution_count": null,
      "metadata": {
        "id": "OgU44CCY9gLF",
        "outputId": "e115c2ca-26e6-4672-cb7b-097047b3a177",
        "colab": {
          "base_uri": "https://localhost:8080/"
        }
      },
      "outputs": [
        {
          "output_type": "execute_result",
          "data": {
            "text/plain": [
              "array([[  0,   0,   0,   0,   0,   0,   0,   0,   0,   0,   0,   0,   0,\n",
              "          0,   0,   0,   0,   0,   0,   0,   0,   0,   0,   0,   0,   0,\n",
              "          0,   0],\n",
              "       [  0,   0,   0,   0,   0,   0,   0,   0,   0,   0,   0,   0,   0,\n",
              "          0,   0,   0,   0,   0,   0,   0,   0,   0,   0,   0,   0,   0,\n",
              "          0,   0],\n",
              "       [  0,   0,   0,   0,   0,   0,   0,   0,   0,   0,   0,   0,   0,\n",
              "          0,   0,   0,   0,   0,   0,   0,   0,   0,   0,   0,   0,   0,\n",
              "          0,   0],\n",
              "       [  0,   0,   0,   0,   0,   0,   0,   0,   0,   0,   0,   0,   0,\n",
              "          0,   0,   0,   0,   0,   0,   0,   0,   0,   0,   0,   0,   0,\n",
              "          0,   0],\n",
              "       [  0,   0,   0,   0,   0,   0,   0,   0,   0,   0,   0,   0,   0,\n",
              "          0,   0,   0,   0,   0,   0,   0,   0,   0,   0,   0,   0,   0,\n",
              "          0,   0],\n",
              "       [  0,   0,   0,   0,   0,   0,   0,   0,   0,   0,   0,   0,   3,\n",
              "         18,  18,  18, 126, 136, 175,  26, 166, 255, 247, 127,   0,   0,\n",
              "          0,   0],\n",
              "       [  0,   0,   0,   0,   0,   0,   0,   0,  30,  36,  94, 154, 170,\n",
              "        253, 253, 253, 253, 253, 225, 172, 253, 242, 195,  64,   0,   0,\n",
              "          0,   0],\n",
              "       [  0,   0,   0,   0,   0,   0,   0,  49, 238, 253, 253, 253, 253,\n",
              "        253, 253, 253, 253, 251,  93,  82,  82,  56,  39,   0,   0,   0,\n",
              "          0,   0],\n",
              "       [  0,   0,   0,   0,   0,   0,   0,  18, 219, 253, 253, 253, 253,\n",
              "        253, 198, 182, 247, 241,   0,   0,   0,   0,   0,   0,   0,   0,\n",
              "          0,   0],\n",
              "       [  0,   0,   0,   0,   0,   0,   0,   0,  80, 156, 107, 253, 253,\n",
              "        205,  11,   0,  43, 154,   0,   0,   0,   0,   0,   0,   0,   0,\n",
              "          0,   0],\n",
              "       [  0,   0,   0,   0,   0,   0,   0,   0,   0,  14,   1, 154, 253,\n",
              "         90,   0,   0,   0,   0,   0,   0,   0,   0,   0,   0,   0,   0,\n",
              "          0,   0],\n",
              "       [  0,   0,   0,   0,   0,   0,   0,   0,   0,   0,   0, 139, 253,\n",
              "        190,   2,   0,   0,   0,   0,   0,   0,   0,   0,   0,   0,   0,\n",
              "          0,   0],\n",
              "       [  0,   0,   0,   0,   0,   0,   0,   0,   0,   0,   0,  11, 190,\n",
              "        253,  70,   0,   0,   0,   0,   0,   0,   0,   0,   0,   0,   0,\n",
              "          0,   0],\n",
              "       [  0,   0,   0,   0,   0,   0,   0,   0,   0,   0,   0,   0,  35,\n",
              "        241, 225, 160, 108,   1,   0,   0,   0,   0,   0,   0,   0,   0,\n",
              "          0,   0],\n",
              "       [  0,   0,   0,   0,   0,   0,   0,   0,   0,   0,   0,   0,   0,\n",
              "         81, 240, 253, 253, 119,  25,   0,   0,   0,   0,   0,   0,   0,\n",
              "          0,   0],\n",
              "       [  0,   0,   0,   0,   0,   0,   0,   0,   0,   0,   0,   0,   0,\n",
              "          0,  45, 186, 253, 253, 150,  27,   0,   0,   0,   0,   0,   0,\n",
              "          0,   0],\n",
              "       [  0,   0,   0,   0,   0,   0,   0,   0,   0,   0,   0,   0,   0,\n",
              "          0,   0,  16,  93, 252, 253, 187,   0,   0,   0,   0,   0,   0,\n",
              "          0,   0],\n",
              "       [  0,   0,   0,   0,   0,   0,   0,   0,   0,   0,   0,   0,   0,\n",
              "          0,   0,   0,   0, 249, 253, 249,  64,   0,   0,   0,   0,   0,\n",
              "          0,   0],\n",
              "       [  0,   0,   0,   0,   0,   0,   0,   0,   0,   0,   0,   0,   0,\n",
              "          0,  46, 130, 183, 253, 253, 207,   2,   0,   0,   0,   0,   0,\n",
              "          0,   0],\n",
              "       [  0,   0,   0,   0,   0,   0,   0,   0,   0,   0,   0,   0,  39,\n",
              "        148, 229, 253, 253, 253, 250, 182,   0,   0,   0,   0,   0,   0,\n",
              "          0,   0],\n",
              "       [  0,   0,   0,   0,   0,   0,   0,   0,   0,   0,  24, 114, 221,\n",
              "        253, 253, 253, 253, 201,  78,   0,   0,   0,   0,   0,   0,   0,\n",
              "          0,   0],\n",
              "       [  0,   0,   0,   0,   0,   0,   0,   0,  23,  66, 213, 253, 253,\n",
              "        253, 253, 198,  81,   2,   0,   0,   0,   0,   0,   0,   0,   0,\n",
              "          0,   0],\n",
              "       [  0,   0,   0,   0,   0,   0,  18, 171, 219, 253, 253, 253, 253,\n",
              "        195,  80,   9,   0,   0,   0,   0,   0,   0,   0,   0,   0,   0,\n",
              "          0,   0],\n",
              "       [  0,   0,   0,   0,  55, 172, 226, 253, 253, 253, 253, 244, 133,\n",
              "         11,   0,   0,   0,   0,   0,   0,   0,   0,   0,   0,   0,   0,\n",
              "          0,   0],\n",
              "       [  0,   0,   0,   0, 136, 253, 253, 253, 212, 135, 132,  16,   0,\n",
              "          0,   0,   0,   0,   0,   0,   0,   0,   0,   0,   0,   0,   0,\n",
              "          0,   0],\n",
              "       [  0,   0,   0,   0,   0,   0,   0,   0,   0,   0,   0,   0,   0,\n",
              "          0,   0,   0,   0,   0,   0,   0,   0,   0,   0,   0,   0,   0,\n",
              "          0,   0],\n",
              "       [  0,   0,   0,   0,   0,   0,   0,   0,   0,   0,   0,   0,   0,\n",
              "          0,   0,   0,   0,   0,   0,   0,   0,   0,   0,   0,   0,   0,\n",
              "          0,   0],\n",
              "       [  0,   0,   0,   0,   0,   0,   0,   0,   0,   0,   0,   0,   0,\n",
              "          0,   0,   0,   0,   0,   0,   0,   0,   0,   0,   0,   0,   0,\n",
              "          0,   0]], dtype=uint8)"
            ]
          },
          "metadata": {},
          "execution_count": 29
        }
      ],
      "source": [
        "train_images[0] # the first image"
      ]
    },
    {
      "cell_type": "code",
      "execution_count": null,
      "metadata": {
        "id": "lyZz9nSj9gLF",
        "outputId": "77f9b916-fe08-4843-dcc8-efeae88e52bb",
        "colab": {
          "base_uri": "https://localhost:8080/"
        }
      },
      "outputs": [
        {
          "output_type": "execute_result",
          "data": {
            "text/plain": [
              "(28, 28)"
            ]
          },
          "metadata": {},
          "execution_count": 30
        }
      ],
      "source": [
        "train_images[0].shape  # the shape of the first image"
      ]
    },
    {
      "cell_type": "code",
      "execution_count": null,
      "metadata": {
        "id": "Xhnk_quh9gLG",
        "outputId": "5494d279-e0fd-4439-9163-2c276d3e9c94",
        "colab": {
          "base_uri": "https://localhost:8080/"
        }
      },
      "outputs": [
        {
          "output_type": "execute_result",
          "data": {
            "text/plain": [
              "60000"
            ]
          },
          "metadata": {},
          "execution_count": 31
        }
      ],
      "source": [
        "len(train_labels)"
      ]
    },
    {
      "cell_type": "code",
      "execution_count": null,
      "metadata": {
        "id": "_6xoZQFV9gLG",
        "outputId": "4b21e0eb-2d6a-438e-9d3d-7760ddd8f5b4",
        "colab": {
          "base_uri": "https://localhost:8080/"
        }
      },
      "outputs": [
        {
          "output_type": "execute_result",
          "data": {
            "text/plain": [
              "array([5, 0, 4, 1, 9, 2], dtype=uint8)"
            ]
          },
          "metadata": {},
          "execution_count": 32
        }
      ],
      "source": [
        "train_labels[:6] # first 5 labels"
      ]
    },
    {
      "cell_type": "markdown",
      "metadata": {
        "id": "MBwEurLo9gLG"
      },
      "source": [
        "Let's have a look at the test data:"
      ]
    },
    {
      "cell_type": "code",
      "execution_count": null,
      "metadata": {
        "id": "oCDkklDh9gLG",
        "outputId": "1738506a-19f4-48e7-a4e4-1d9add086740",
        "colab": {
          "base_uri": "https://localhost:8080/"
        }
      },
      "outputs": [
        {
          "output_type": "execute_result",
          "data": {
            "text/plain": [
              "(10000, 28, 28)"
            ]
          },
          "metadata": {},
          "execution_count": 33
        }
      ],
      "source": [
        "test_images.shape"
      ]
    },
    {
      "cell_type": "code",
      "execution_count": null,
      "metadata": {
        "id": "SUDcU5Pm9gLH",
        "outputId": "61027d90-795a-4e5b-ffa3-54aebe01c0fc",
        "colab": {
          "base_uri": "https://localhost:8080/"
        }
      },
      "outputs": [
        {
          "output_type": "execute_result",
          "data": {
            "text/plain": [
              "10000"
            ]
          },
          "metadata": {},
          "execution_count": 34
        }
      ],
      "source": [
        "len(test_labels)"
      ]
    },
    {
      "cell_type": "code",
      "execution_count": null,
      "metadata": {
        "id": "qPONQs6r9gLH",
        "outputId": "0336ec58-53bc-4c3f-db98-84fd7de8b7d2",
        "colab": {
          "base_uri": "https://localhost:8080/"
        }
      },
      "outputs": [
        {
          "output_type": "execute_result",
          "data": {
            "text/plain": [
              "array([7, 2, 1, ..., 4, 5, 6], dtype=uint8)"
            ]
          },
          "metadata": {},
          "execution_count": 35
        }
      ],
      "source": [
        "test_labels"
      ]
    },
    {
      "cell_type": "markdown",
      "metadata": {
        "id": "romZJrKB9gLH"
      },
      "source": [
        "\n",
        "Before training, we will preprocess our data by reshaping it into the shape that the network expects, and scaling it so that all values are in\n",
        "the `[0, 1]` interval. Previously, our training images for instance were stored in an array of shape `(60000, 28, 28)` of type `uint8` with\n",
        "values in the `[0, 255]` interval. We transform it into a `float32` array of shape `(60000, 28 * 28)` with values between 0 and 1."
      ]
    },
    {
      "cell_type": "code",
      "execution_count": null,
      "metadata": {
        "id": "oSsUxCVJ9gLH"
      },
      "outputs": [],
      "source": [
        "train_images = train_images.astype('float32') / 255\n",
        "train_images = train_images.reshape((60000, 28 * 28))\n",
        "\n",
        "test_images = test_images.astype('float32') / 255\n",
        "test_images = test_images.reshape((10000, 28 * 28))"
      ]
    },
    {
      "cell_type": "markdown",
      "metadata": {
        "id": "_mLxIiNS9gLH"
      },
      "source": [
        "### Reshaping an image for the network\n",
        "\n",
        "The picture below shows the steps involved in converting a 10x10 pixel image into a 1 dimensional array that can be fed into a fully-connected neural network (assuming we do not scale the pixel values).\n",
        "\n",
        "<img src=\"https://github.com/joncalle/ML2/blob/main/Lab%201%20-%20Pictures-2.jpg?raw=1\" width=600 align=\"center\">\n",
        "\n",
        "And the picture below should help you visualize what things look like when we consider more than a single sample in our data:\n",
        "\n",
        "<img src=\"https://github.com/joncalle/ML2/blob/main/Lab%201%20-%20Pictures-3.jpg?raw=1\" width=600 align=\"center\">"
      ]
    },
    {
      "cell_type": "markdown",
      "metadata": {
        "id": "5GmCNX5N9gLH"
      },
      "source": [
        "We also need to categorically encode the labels:"
      ]
    },
    {
      "cell_type": "code",
      "execution_count": null,
      "metadata": {
        "id": "vMH8rHMz9gLH"
      },
      "outputs": [],
      "source": [
        "from tensorflow.keras.utils import to_categorical\n",
        "\n",
        "train_labels = to_categorical(train_labels)\n",
        "test_labels = to_categorical(test_labels)"
      ]
    },
    {
      "cell_type": "code",
      "execution_count": null,
      "metadata": {
        "id": "pUDeTSmk9gLH",
        "outputId": "a4c621fa-f360-461f-d81d-070b1b3a10d4",
        "colab": {
          "base_uri": "https://localhost:8080/"
        }
      },
      "outputs": [
        {
          "output_type": "execute_result",
          "data": {
            "text/plain": [
              "array([[0., 0., 0., 0., 0., 1., 0., 0., 0., 0.],\n",
              "       [1., 0., 0., 0., 0., 0., 0., 0., 0., 0.],\n",
              "       [0., 0., 0., 0., 1., 0., 0., 0., 0., 0.],\n",
              "       [0., 1., 0., 0., 0., 0., 0., 0., 0., 0.],\n",
              "       [0., 0., 0., 0., 0., 0., 0., 0., 0., 1.]], dtype=float32)"
            ]
          },
          "metadata": {},
          "execution_count": 38
        }
      ],
      "source": [
        "train_labels[:5]"
      ]
    },
    {
      "cell_type": "markdown",
      "metadata": {
        "id": "uQRQ4slO9gLI"
      },
      "source": [
        "<img src=\"https://github.com/joncalle/ML2/blob/main/Lab%201%20-%20Pictures-5.jpg?raw=1\" width=600 align=\"center\">"
      ]
    },
    {
      "cell_type": "markdown",
      "metadata": {
        "id": "Uwnpsauo9gLI"
      },
      "source": [
        "Our workflow will be as follow: first we will present our neural network with the training data: `train_images` and `train_labels`. The\n",
        "network will then learn to associate images and labels. Finally, we will ask the network to produce predictions for `test_images`, and we\n",
        "will verify if these predictions match the labels from `test_labels`.\n",
        "\n",
        "## Build the network\n",
        "\n",
        "Let's build our network!"
      ]
    },
    {
      "cell_type": "code",
      "execution_count": null,
      "metadata": {
        "id": "YimnjWKP9gLI"
      },
      "outputs": [],
      "source": [
        "from tensorflow.keras.models import Sequential\n",
        "from tensorflow.keras.layers import Dense, Dropout\n",
        "\n",
        "network = Sequential()\n",
        "network.add(Dense(512, activation='relu', input_shape=(28 * 28,)))\n",
        "network.add(Dense(10, activation='softmax'))"
      ]
    },
    {
      "cell_type": "markdown",
      "metadata": {
        "id": "240Kd4Mi9gLI"
      },
      "source": [
        "The core building block of neural networks is the \"layer\", a data-processing module which you can conceive as a \"filter\" for data. Some data comes in, and comes out in a more useful form. Precisely, layers extract _representations_ out of the data fed into them -- hopefully representations that are more meaningful for the problem at hand. Most of deep learning really consists of chaining together simple layers which will implement a form of progressive \"data distillation\". A deep learning model is like a sieve for data processing, made of a\n",
        "succession of increasingly refined data filters -- the \"layers\".\n",
        "\n",
        "Here our network consists of a sequence of two `Dense` layers, which are densely-connected (also called \"fully-connected\") neural layers. The second (and last) layer is a 10-way \"softmax\" layer, which means it will return an array of 10 probability scores (summing to 1). Each score will be the probability that the current digit image belongs to one of our 10 digit classes. See this [blog post](https://victorzhou.com/blog/softmax/) for more details on the softmax function. The following picture may help you see what is happening:\n",
        "\n",
        "<img src=\"https://github.com/joncalle/ML2/blob/main/Lab%201%20-%20Pictures-4.jpg?raw=1\" width=600 align=\"center\">"
      ]
    },
    {
      "cell_type": "markdown",
      "metadata": {
        "id": "4G78FKGl9gLI"
      },
      "source": [
        "## Network architecture and parameters\n",
        "It is often helpful to review the architecture of the network and see how many parameters will need to be learned through the training process. To do this, Keras provides the `.summary()` function:"
      ]
    },
    {
      "cell_type": "code",
      "execution_count": null,
      "metadata": {
        "id": "nfouUE-J9gLI",
        "outputId": "e49d7cd6-3536-4ece-94e6-c2556657a5bd",
        "colab": {
          "base_uri": "https://localhost:8080/"
        }
      },
      "outputs": [
        {
          "output_type": "stream",
          "name": "stdout",
          "text": [
            "Model: \"sequential_5\"\n",
            "_________________________________________________________________\n",
            " Layer (type)                Output Shape              Param #   \n",
            "=================================================================\n",
            " dense_10 (Dense)            (None, 512)               401920    \n",
            "                                                                 \n",
            " dense_11 (Dense)            (None, 10)                5130      \n",
            "                                                                 \n",
            "=================================================================\n",
            "Total params: 407050 (1.55 MB)\n",
            "Trainable params: 407050 (1.55 MB)\n",
            "Non-trainable params: 0 (0.00 Byte)\n",
            "_________________________________________________________________\n"
          ]
        }
      ],
      "source": [
        "network.summary()"
      ]
    },
    {
      "cell_type": "markdown",
      "metadata": {
        "id": "7lh3w8AR9gLI"
      },
      "source": [
        "## Compile the network\n",
        "To make our network ready for training, we need to pick three more things, as part of \"compilation\" step:\n",
        "\n",
        "* A loss function: this is how the network will be able to measure how good a job it is doing on its training data, and thus how it will be able to steer itself in the right direction.\n",
        "* An optimizer: this is the mechanism through which the network will update its parameters (weights and biases) based on the data it sees and its loss function. This is like the *gradient descent* recipe for updating the network's parameters.\n",
        "* Metrics: what to monitor during training and testing. Here we will only care about accuracy (the fraction of the images that were correctly classified)."
      ]
    },
    {
      "cell_type": "code",
      "execution_count": null,
      "metadata": {
        "id": "cj07MyKT9gLI"
      },
      "outputs": [],
      "source": [
        "network.compile(optimizer='rmsprop',\n",
        "                loss='categorical_crossentropy',\n",
        "                metrics=['accuracy'])"
      ]
    },
    {
      "cell_type": "markdown",
      "metadata": {
        "id": "mPOCSa319gLI"
      },
      "source": [
        "We are now ready to train our network, which in Keras is done via a call to the `fit` method of the network:\n",
        "we \"fit\" the model to its training data."
      ]
    },
    {
      "cell_type": "markdown",
      "metadata": {
        "id": "18vyNpl59gLI"
      },
      "source": [
        "## Train the network"
      ]
    },
    {
      "cell_type": "code",
      "execution_count": null,
      "metadata": {
        "id": "DnEyaaZV9gLI",
        "outputId": "320dfcb5-2e78-447c-b666-86855c7fb5f5",
        "colab": {
          "base_uri": "https://localhost:8080/"
        }
      },
      "outputs": [
        {
          "output_type": "stream",
          "name": "stdout",
          "text": [
            "Epoch 1/5\n",
            "469/469 [==============================] - 3s 6ms/step - loss: 0.2650 - accuracy: 0.9230\n",
            "Epoch 2/5\n",
            "469/469 [==============================] - 3s 6ms/step - loss: 0.1086 - accuracy: 0.9682\n",
            "Epoch 3/5\n",
            "469/469 [==============================] - 3s 6ms/step - loss: 0.0715 - accuracy: 0.9787\n",
            "Epoch 4/5\n",
            "469/469 [==============================] - 3s 7ms/step - loss: 0.0509 - accuracy: 0.9848\n",
            "Epoch 5/5\n",
            "469/469 [==============================] - 3s 6ms/step - loss: 0.0391 - accuracy: 0.9882\n"
          ]
        }
      ],
      "source": [
        "history = network.fit(train_images, train_labels, epochs=5, batch_size=128, verbose=1)"
      ]
    },
    {
      "cell_type": "markdown",
      "metadata": {
        "id": "yI4CVb0D9gLI"
      },
      "source": [
        "Two quantities are being displayed during training: the \"loss\" of the network over the training data, and the accuracy of the network over\n",
        "the training data.\n",
        "\n",
        "We quickly reach an accuracy of around 0.98 (i.e. 98%) on the training data."
      ]
    },
    {
      "cell_type": "markdown",
      "metadata": {
        "id": "DMkz4Ak29gLI"
      },
      "source": [
        "## Check test accuracy\n",
        "\n",
        "Now let's check that our model performs well on the test set too:"
      ]
    },
    {
      "cell_type": "code",
      "execution_count": null,
      "metadata": {
        "id": "idThFmD69gLJ",
        "outputId": "99adc6f8-f195-4b9c-8015-3564197c1d28",
        "colab": {
          "base_uri": "https://localhost:8080/"
        }
      },
      "outputs": [
        {
          "output_type": "stream",
          "name": "stdout",
          "text": [
            "313/313 [==============================] - 1s 2ms/step - loss: 0.0601 - accuracy: 0.9819\n"
          ]
        }
      ],
      "source": [
        "test_loss, test_acc = network.evaluate(test_images, test_labels)"
      ]
    },
    {
      "cell_type": "code",
      "execution_count": null,
      "metadata": {
        "id": "Ln7bCBxv9gLJ",
        "outputId": "47320d38-fec5-4656-e0a0-467df05892db",
        "colab": {
          "base_uri": "https://localhost:8080/"
        }
      },
      "outputs": [
        {
          "output_type": "stream",
          "name": "stdout",
          "text": [
            "test_acc: 0.9818999767303467\n"
          ]
        }
      ],
      "source": [
        "print('test_acc:', test_acc)"
      ]
    },
    {
      "cell_type": "markdown",
      "metadata": {
        "id": "fSohQhQs9gLJ"
      },
      "source": [
        "\n",
        "Our test set accuracy turns out to be around 98%, which is lower than the training set accuracy.\n",
        "\n",
        "This concludes our very first example -- you just saw how we could build and train a neural network to classify handwritten digits, in less than 20 lines of Python code."
      ]
    },
    {
      "cell_type": "markdown",
      "metadata": {
        "id": "5uZZu6Yo9gLJ"
      },
      "source": [
        "**epoch**\n",
        "  - one epoch is reached when all training examples have been sent through the network\n",
        "  \n",
        "**batch size**\n",
        "  - the training data is not sent through the network one sample at time but in batches; this is another hyperparamter to be set. The weights and biases are updated after each batch is processed by the network. In this example the batch size was set to 128\n"
      ]
    },
    {
      "cell_type": "markdown",
      "metadata": {
        "id": "-essVG--9gLK"
      },
      "source": [
        "## Your turn\n",
        "\n",
        "Rerunning the network means executing the following steps:\n",
        "- Build the network\n",
        "- Network architecure and parameters\n",
        "- Compile the network\n",
        "- Train the network\n",
        "- Check test accuracy\n",
        "\n",
        "**Each exercise will thus have all the necessary code to build, compile, fit, and test.**\n",
        "\n",
        "## Starting Code\n",
        "\n",
        "Begin with the following code for Exercises 1 to 5, that is, the code below is what you are being asked to modify in the first five exercises:\n",
        "\n",
        "```\n",
        "network = Sequential()\n",
        "network.add(Dense(512, activation='relu', input_shape=(28 * 28,)))\n",
        "network.add(Dense(10, activation='softmax'))\n",
        "\n",
        "network.summary()\n",
        "\n",
        "network.compile(optimizer='rmsprop',\n",
        "                loss='categorical_crossentropy',\n",
        "                metrics=['accuracy'])\n",
        "                \n",
        "network.fit(train_images, train_labels, epochs=5, batch_size=128, verbose=1)\n",
        "\n",
        "test_loss, test_acc = network.evaluate(test_images, test_labels)\n",
        "print('test_acc:', test_acc)\n",
        "```\n",
        "\n",
        "Be sure to rename the `network` for each Exercise."
      ]
    },
    {
      "cell_type": "markdown",
      "metadata": {
        "id": "GbrPEYjf9gLK"
      },
      "source": [
        "## Your turn\n",
        "\n",
        "Rerunning the network means executing the following steps:\n",
        "- Build the network\n",
        "- Compile the network\n",
        "- Fit the data\n",
        "- Check test accuracy\n",
        "\n",
        "Before you begin, make a copy of the `network` in the *Build the network* section so you can remember the structure and parameters for the original network.\n",
        "\n",
        "### **Exercise 1-6 (15 Marks) (2.5 Marks each)**\n",
        "\n",
        "### Exercise 1\n",
        "\n",
        "- change the activation in the hidden layer to 'sigmoid'\n",
        "- rerun the network\n",
        "- what is the new value for the training accuracy?\n",
        "- what is the new value for the test accuracy?"
      ]
    },
    {
      "cell_type": "markdown",
      "source": [
        "##### Answers:\n",
        "###### The new value for the training accuracy is around 95%\n",
        "###### The new value for the test accuracy is 96%"
      ],
      "metadata": {
        "id": "3Or7dzFr95Qf"
      }
    },
    {
      "cell_type": "code",
      "source": [
        "\n",
        "network2 = Sequential()\n",
        "network2.add(Dense(512, activation='sigmoid', input_shape=(28 * 28,)))\n",
        "network2.add(Dense(10, activation='softmax'))\n",
        "network2.compile(optimizer='rmsprop',\n",
        "                loss='categorical_crossentropy',\n",
        "                metrics=['accuracy'])\n",
        "\n",
        "network2.fit(train_images, train_labels, epochs=5, batch_size=128, verbose=1)\n",
        "test_loss2, test_acc2 = network2.evaluate(test_images, test_labels)\n",
        "print('New test accuracy:', test_acc2)"
      ],
      "metadata": {
        "colab": {
          "base_uri": "https://localhost:8080/"
        },
        "id": "YZVRixPjRsRX",
        "outputId": "af057cd3-095b-44a4-f592-c1b06b6d9aa2"
      },
      "execution_count": null,
      "outputs": [
        {
          "output_type": "stream",
          "name": "stdout",
          "text": [
            "Epoch 1/5\n",
            "469/469 [==============================] - 4s 7ms/step - loss: 0.4571 - accuracy: 0.8770\n",
            "Epoch 2/5\n",
            "469/469 [==============================] - 4s 8ms/step - loss: 0.2679 - accuracy: 0.9221\n",
            "Epoch 3/5\n",
            "469/469 [==============================] - 4s 8ms/step - loss: 0.2161 - accuracy: 0.9368\n",
            "Epoch 4/5\n",
            "469/469 [==============================] - 4s 8ms/step - loss: 0.1762 - accuracy: 0.9491\n",
            "Epoch 5/5\n",
            "469/469 [==============================] - 3s 7ms/step - loss: 0.1469 - accuracy: 0.9569\n",
            "313/313 [==============================] - 1s 2ms/step - loss: 0.1377 - accuracy: 0.9584\n",
            "New test accuracy: 0.9584000110626221\n"
          ]
        }
      ]
    },
    {
      "cell_type": "markdown",
      "metadata": {
        "id": "8A0mC-lw9gLK"
      },
      "source": [
        "### Exercise 2\n",
        "\n",
        "- change the activation in the hidden layer back to 'relu'\n",
        "- change the batch size to 32\n",
        "- rerun the network\n",
        "- what is the new value for the training accuracy?\n",
        "- what is the new value for the test accuracy?\n",
        "- was the speed effected?"
      ]
    },
    {
      "cell_type": "markdown",
      "source": [
        "##### Answers:\n",
        "###### The new value for the training accuracy is around 99%, the highest value so far\n",
        "###### The new value for the test accuracy is 98%\n",
        "###### Yes, the time changed from an average of 3s per Epoch to 7s"
      ],
      "metadata": {
        "id": "Paam7z8qAdVq"
      }
    },
    {
      "cell_type": "code",
      "source": [
        "network3 = Sequential()\n",
        "network3.add(Dense(512, activation='relu', input_shape=(28 * 28,)))\n",
        "network3.add(Dense(10, activation='softmax'))\n",
        "network3.summary()\n",
        "network3.compile(optimizer='rmsprop',\n",
        "                loss='categorical_crossentropy',\n",
        "                metrics=['accuracy'])\n",
        "\n",
        "network3.fit(train_images, train_labels, epochs=5, batch_size=32, verbose=1)\n",
        "test_loss3, test_acc3 = network3.evaluate(test_images, test_labels)\n",
        "print('New test accuracy:', test_acc3)"
      ],
      "metadata": {
        "colab": {
          "base_uri": "https://localhost:8080/"
        },
        "id": "0ipTP6gFVKfU",
        "outputId": "939a1bf6-df75-44d0-f5d8-b198fd44dcdc"
      },
      "execution_count": null,
      "outputs": [
        {
          "output_type": "stream",
          "name": "stdout",
          "text": [
            "Model: \"sequential_35\"\n",
            "_________________________________________________________________\n",
            " Layer (type)                Output Shape              Param #   \n",
            "=================================================================\n",
            " dense_83 (Dense)            (None, 512)               401920    \n",
            "                                                                 \n",
            " dense_84 (Dense)            (None, 10)                5130      \n",
            "                                                                 \n",
            "=================================================================\n",
            "Total params: 407050 (1.55 MB)\n",
            "Trainable params: 407050 (1.55 MB)\n",
            "Non-trainable params: 0 (0.00 Byte)\n",
            "_________________________________________________________________\n",
            "Epoch 1/5\n",
            "1875/1875 [==============================] - 10s 5ms/step - loss: 0.2043 - accuracy: 0.9396\n",
            "Epoch 2/5\n",
            "1875/1875 [==============================] - 9s 5ms/step - loss: 0.0847 - accuracy: 0.9751\n",
            "Epoch 3/5\n",
            "1875/1875 [==============================] - 10s 5ms/step - loss: 0.0581 - accuracy: 0.9825\n",
            "Epoch 4/5\n",
            "1875/1875 [==============================] - 11s 6ms/step - loss: 0.0441 - accuracy: 0.9869\n",
            "Epoch 5/5\n",
            "1875/1875 [==============================] - 10s 5ms/step - loss: 0.0332 - accuracy: 0.9905\n",
            "313/313 [==============================] - 1s 2ms/step - loss: 0.0798 - accuracy: 0.9794\n",
            "New test accuracy: 0.9793999791145325\n"
          ]
        }
      ]
    },
    {
      "cell_type": "markdown",
      "metadata": {
        "id": "5IIBsGT89gLK"
      },
      "source": [
        "### Exercise 3\n",
        "\n",
        "- change the number of epochs to 10\n",
        "- rerun the network\n",
        "- what is the new value for the training accuracy?\n",
        "- what is the new value for the test accuracy?"
      ]
    },
    {
      "cell_type": "markdown",
      "source": [
        "##### Answers:\n",
        "###### The new value for the training accuracy is around 99%.\n",
        "###### The new value for the test accuracy is 98% which is almost the same we saw for the other models."
      ],
      "metadata": {
        "id": "fr4t8LriB7AW"
      }
    },
    {
      "cell_type": "code",
      "source": [
        "network4 = Sequential()\n",
        "network4.add(Dense(512, activation='relu', input_shape=(28 * 28,)))\n",
        "network4.add(Dense(10, activation='softmax'))\n",
        "network4.summary()\n",
        "network4.compile(optimizer='rmsprop',\n",
        "                loss='categorical_crossentropy',\n",
        "                metrics=['accuracy'])\n",
        "\n",
        "network4.fit(train_images, train_labels, epochs=10, batch_size=32, verbose=1)\n",
        "test_loss4, test_acc4 = network4.evaluate(test_images, test_labels)\n",
        "print('New test accuracy:', test_acc4)"
      ],
      "metadata": {
        "colab": {
          "base_uri": "https://localhost:8080/"
        },
        "id": "tSF3b4PAWv2M",
        "outputId": "4074161d-e065-453e-eee2-af6bb3a2f4cc"
      },
      "execution_count": null,
      "outputs": [
        {
          "output_type": "stream",
          "name": "stdout",
          "text": [
            "Model: \"sequential_8\"\n",
            "_________________________________________________________________\n",
            " Layer (type)                Output Shape              Param #   \n",
            "=================================================================\n",
            " dense_16 (Dense)            (None, 512)               401920    \n",
            "                                                                 \n",
            " dense_17 (Dense)            (None, 10)                5130      \n",
            "                                                                 \n",
            "=================================================================\n",
            "Total params: 407050 (1.55 MB)\n",
            "Trainable params: 407050 (1.55 MB)\n",
            "Non-trainable params: 0 (0.00 Byte)\n",
            "_________________________________________________________________\n",
            "Epoch 1/10\n",
            "1875/1875 [==============================] - 8s 4ms/step - loss: 0.2020 - accuracy: 0.9406\n",
            "Epoch 2/10\n",
            "1875/1875 [==============================] - 12s 6ms/step - loss: 0.0851 - accuracy: 0.9743\n",
            "Epoch 3/10\n",
            "1875/1875 [==============================] - 8s 5ms/step - loss: 0.0589 - accuracy: 0.9829\n",
            "Epoch 4/10\n",
            "1875/1875 [==============================] - 7s 4ms/step - loss: 0.0440 - accuracy: 0.9874\n",
            "Epoch 5/10\n",
            "1875/1875 [==============================] - 8s 4ms/step - loss: 0.0343 - accuracy: 0.9900\n",
            "Epoch 6/10\n",
            "1875/1875 [==============================] - 7s 4ms/step - loss: 0.0261 - accuracy: 0.9916\n",
            "Epoch 7/10\n",
            "1875/1875 [==============================] - 8s 4ms/step - loss: 0.0212 - accuracy: 0.9935\n",
            "Epoch 8/10\n",
            "1875/1875 [==============================] - 8s 4ms/step - loss: 0.0155 - accuracy: 0.9953\n",
            "Epoch 9/10\n",
            "1875/1875 [==============================] - 7s 4ms/step - loss: 0.0115 - accuracy: 0.9965\n",
            "Epoch 10/10\n",
            "1875/1875 [==============================] - 8s 4ms/step - loss: 0.0090 - accuracy: 0.9974\n",
            "313/313 [==============================] - 1s 2ms/step - loss: 0.0881 - accuracy: 0.9799\n",
            "New test accuracy: 0.9799000024795532\n"
          ]
        }
      ]
    },
    {
      "cell_type": "markdown",
      "metadata": {
        "id": "3jaJqS4A9gLK"
      },
      "source": [
        "### Exercise 4\n",
        "\n",
        "- change the number of neurons in the hidden layer to 128\n",
        "- rerun the network\n",
        "- what is the new value for the training accuracy?\n",
        "- what is the new value for the test accuracy?"
      ]
    },
    {
      "cell_type": "markdown",
      "source": [
        "##### Answers:\n",
        "###### The new value for the training accuracy is still around 99%.\n",
        "###### The new value for the test accuracy is 98% which is almost the same we saw for the other models."
      ],
      "metadata": {
        "id": "ZmPhuMHoCXSP"
      }
    },
    {
      "cell_type": "code",
      "source": [
        "network5 = Sequential()\n",
        "network5.add(Dense(128, activation='relu', input_shape=(28 * 28,)))\n",
        "network5.add(Dense(10, activation='softmax'))\n",
        "network5.summary()\n",
        "network5.compile(optimizer='rmsprop',\n",
        "                loss='categorical_crossentropy',\n",
        "                metrics=['accuracy'])\n",
        "\n",
        "network5.fit(train_images, train_labels, epochs=10, batch_size=32, verbose=1)\n",
        "test_loss5, test_acc5 = network5.evaluate(test_images, test_labels)\n",
        "print('New test accuracy:', test_acc5)"
      ],
      "metadata": {
        "colab": {
          "base_uri": "https://localhost:8080/"
        },
        "id": "hmgl_u3LXUzZ",
        "outputId": "3733a4da-d2c3-4097-c251-2bc3e8e8b6ac"
      },
      "execution_count": null,
      "outputs": [
        {
          "output_type": "stream",
          "name": "stdout",
          "text": [
            "Model: \"sequential_9\"\n",
            "_________________________________________________________________\n",
            " Layer (type)                Output Shape              Param #   \n",
            "=================================================================\n",
            " dense_18 (Dense)            (None, 128)               100480    \n",
            "                                                                 \n",
            " dense_19 (Dense)            (None, 10)                1290      \n",
            "                                                                 \n",
            "=================================================================\n",
            "Total params: 101770 (397.54 KB)\n",
            "Trainable params: 101770 (397.54 KB)\n",
            "Non-trainable params: 0 (0.00 Byte)\n",
            "_________________________________________________________________\n",
            "Epoch 1/10\n",
            "1875/1875 [==============================] - 4s 2ms/step - loss: 0.2600 - accuracy: 0.9254\n",
            "Epoch 2/10\n",
            "1875/1875 [==============================] - 5s 2ms/step - loss: 0.1194 - accuracy: 0.9645\n",
            "Epoch 3/10\n",
            "1875/1875 [==============================] - 4s 2ms/step - loss: 0.0859 - accuracy: 0.9746\n",
            "Epoch 4/10\n",
            "1875/1875 [==============================] - 4s 2ms/step - loss: 0.0688 - accuracy: 0.9800\n",
            "Epoch 5/10\n",
            "1875/1875 [==============================] - 4s 2ms/step - loss: 0.0571 - accuracy: 0.9830\n",
            "Epoch 6/10\n",
            "1875/1875 [==============================] - 4s 2ms/step - loss: 0.0481 - accuracy: 0.9859\n",
            "Epoch 7/10\n",
            "1875/1875 [==============================] - 4s 2ms/step - loss: 0.0416 - accuracy: 0.9877\n",
            "Epoch 8/10\n",
            "1875/1875 [==============================] - 4s 2ms/step - loss: 0.0372 - accuracy: 0.9899\n",
            "Epoch 9/10\n",
            "1875/1875 [==============================] - 5s 2ms/step - loss: 0.0315 - accuracy: 0.9913\n",
            "Epoch 10/10\n",
            "1875/1875 [==============================] - 5s 2ms/step - loss: 0.0277 - accuracy: 0.9923\n",
            "313/313 [==============================] - 1s 1ms/step - loss: 0.0872 - accuracy: 0.9773\n",
            "New test accuracy: 0.9772999882698059\n"
          ]
        }
      ]
    },
    {
      "cell_type": "markdown",
      "metadata": {
        "id": "apa9fRnM9gLL"
      },
      "source": [
        "### Exercise 5\n",
        "\n",
        "- to the original network, add a second hidden layer of 128 neurons (note that `input_shape` does note need to be set for a second *Dense* layer)\n",
        "- rerun the network\n",
        "- what is the new value for the training accuracy?\n",
        "- what is the new value for the test accuracy?"
      ]
    },
    {
      "cell_type": "markdown",
      "source": [
        "##### Answer:\n",
        "###### The new value for the training accuracy after the addition of the second layer is 96%\n",
        "###### The new value for the test accuracy after the addition of the second layer is around 96%"
      ],
      "metadata": {
        "id": "KJGpfJcnEmB_"
      }
    },
    {
      "cell_type": "code",
      "source": [
        "network6 = Sequential()\n",
        "network6.add(Dense(512, activation='sigmoid', input_shape=(28 * 28,)))\n",
        "network6.add(Dense(128, activation='sigmoid'))  # Adding a second hidden layer\n",
        "network6.add(Dense(10, activation='softmax'))\n",
        "network6.compile(optimizer='rmsprop',\n",
        "                loss='categorical_crossentropy',\n",
        "                metrics=['accuracy'])\n",
        "\n",
        "network6.fit(train_images, train_labels, epochs=5, batch_size=128, verbose=1)\n",
        "test_loss6, test_acc6 = network6.evaluate(test_images, test_labels)\n",
        "print('New test accuracy:', test_acc6)"
      ],
      "metadata": {
        "colab": {
          "base_uri": "https://localhost:8080/"
        },
        "id": "4RZVNUKzaFP3",
        "outputId": "08a35112-b30c-4ba5-b7f1-e6c6bf7e1086"
      },
      "execution_count": null,
      "outputs": [
        {
          "output_type": "stream",
          "name": "stdout",
          "text": [
            "Epoch 1/5\n",
            "469/469 [==============================] - 5s 8ms/step - loss: 0.5915 - accuracy: 0.8423\n",
            "Epoch 2/5\n",
            "469/469 [==============================] - 4s 9ms/step - loss: 0.2593 - accuracy: 0.9235\n",
            "Epoch 3/5\n",
            "469/469 [==============================] - 4s 8ms/step - loss: 0.2027 - accuracy: 0.9396\n",
            "Epoch 4/5\n",
            "469/469 [==============================] - 4s 8ms/step - loss: 0.1642 - accuracy: 0.9509\n",
            "Epoch 5/5\n",
            "469/469 [==============================] - 4s 9ms/step - loss: 0.1358 - accuracy: 0.9595\n",
            "313/313 [==============================] - 1s 2ms/step - loss: 0.1315 - accuracy: 0.9599\n",
            "New test accuracy: 0.9599000215530396\n"
          ]
        }
      ]
    },
    {
      "cell_type": "markdown",
      "metadata": {
        "id": "azOgAzee9gLL"
      },
      "source": [
        "### Exercise 6\n",
        "\n",
        "There is a good chance that the network from the previous exercise is overfitting. One way to manage overfitting in a network is to add a **dropout** layer. A dropout layer will randomly \"turn off\" (or *drop*) a fraction of the neurons in a layer. This makes it harder for the network to 'memorize' the training data.\n",
        "\n",
        "- add a dropout layer after the first hidden layer (see the [keras documentation](https://keras.io/layers/core/))\n",
        "- rerun the network\n",
        "- what is the new value for the training accuracy?\n",
        "- what is the new value for the test accuracy?"
      ]
    },
    {
      "cell_type": "markdown",
      "source": [
        "##### Answer:\n",
        "###### The new value for the training accuracy after the addition of a dropout layer is 95%\n",
        "###### The new value for the test accuracy after the addition of a dropout layer is around 96%"
      ],
      "metadata": {
        "id": "aP8IFM1NFSvf"
      }
    },
    {
      "cell_type": "code",
      "source": [
        "network7 = Sequential()\n",
        "network7.add(Dense(512, activation='sigmoid', input_shape=(28 * 28,)))\n",
        "network7.add(Dropout(0.5))  # Adding a dropout layer with a dropout rate of 0.5\n",
        "network7.add(Dense(128, activation='sigmoid'))  # Adding a second hidden layer\n",
        "network7.add(Dense(10, activation='softmax'))\n",
        "\n",
        "network7.compile(optimizer='rmsprop',\n",
        "                loss='categorical_crossentropy',\n",
        "                metrics=['accuracy'])\n",
        "\n",
        "network7.fit(train_images, train_labels, epochs=5, batch_size=128, verbose=1)\n",
        "test_loss7, test_acc7 = network7.evaluate(test_images, test_labels)\n",
        "print('New test accuracy:', test_acc7)"
      ],
      "metadata": {
        "colab": {
          "base_uri": "https://localhost:8080/"
        },
        "id": "6IMHZXk2a3Y4",
        "outputId": "5d69d145-9550-46d5-8575-746b023497ec"
      },
      "execution_count": null,
      "outputs": [
        {
          "output_type": "stream",
          "name": "stdout",
          "text": [
            "Epoch 1/5\n",
            "469/469 [==============================] - 4s 8ms/step - loss: 0.6753 - accuracy: 0.8095\n",
            "Epoch 2/5\n",
            "469/469 [==============================] - 4s 9ms/step - loss: 0.3054 - accuracy: 0.9080\n",
            "Epoch 3/5\n",
            "469/469 [==============================] - 5s 10ms/step - loss: 0.2419 - accuracy: 0.9259\n",
            "Epoch 4/5\n",
            "469/469 [==============================] - 4s 8ms/step - loss: 0.1995 - accuracy: 0.9396\n",
            "Epoch 5/5\n",
            "469/469 [==============================] - 4s 8ms/step - loss: 0.1724 - accuracy: 0.9481\n",
            "313/313 [==============================] - 1s 2ms/step - loss: 0.1374 - accuracy: 0.9580\n",
            "New test accuracy: 0.9580000042915344\n"
          ]
        }
      ]
    },
    {
      "cell_type": "markdown",
      "source": [
        "### **Exercise 7 - CHALLENGE! (20 Marks)**\n",
        "\n",
        "**State of the art accuracy for the MNIST dataset is 99.84%.**\n",
        "\n",
        "How close can you get to this accuracy?\n",
        "\n",
        "Create a new fully-connected network. You can find information in the keras documentation. Things to try:\n",
        "* additional layers\n",
        "* number of neurons per layer\n",
        "* batch size\n",
        "* learning rate\n",
        "* activation functions\n",
        "* weight initializations\n",
        "* different optimizers\n",
        "* dropout layers\n",
        "\n",
        "\n",
        "This network should have at least 3 characteristics that are different from every other network submitted in this lab"
      ],
      "metadata": {
        "id": "b-HOSfjS-cya"
      }
    },
    {
      "cell_type": "markdown",
      "source": [
        "###### Answer: After several tries, the maximum test accuracy we reached was 98.3% after including a layer using sigmoid after a layer using relu, and changing the epoch to 8 and the batch size do 15"
      ],
      "metadata": {
        "id": "FD0f5uUpXatt"
      }
    },
    {
      "cell_type": "code",
      "source": [
        "network8 = Sequential()\n",
        "network8.add(Dense(512, activation='relu', input_shape=(28 * 28,)))\n",
        "network8.add(Dense(64, activation='sigmoid'))\n",
        "network8.add(Dense(10, activation='softmax'))\n",
        "network8.summary()\n",
        "network8.compile(optimizer='rmsprop',\n",
        "                loss='categorical_crossentropy',\n",
        "                metrics=['accuracy'])\n",
        "\n",
        "network8.fit(train_images, train_labels, epochs=8, batch_size=15, verbose=1)\n",
        "test_loss4, test_acc8 = network8.evaluate(test_images, test_labels)\n",
        "print('New test accuracy:', test_acc8)"
      ],
      "metadata": {
        "colab": {
          "base_uri": "https://localhost:8080/"
        },
        "id": "Dss3t2zJJM9S",
        "outputId": "7b920ca1-3f7e-4b3a-ae54-e1de384bc462"
      },
      "execution_count": null,
      "outputs": [
        {
          "output_type": "stream",
          "name": "stdout",
          "text": [
            "Model: \"sequential_41\"\n",
            "_________________________________________________________________\n",
            " Layer (type)                Output Shape              Param #   \n",
            "=================================================================\n",
            " dense_97 (Dense)            (None, 512)               401920    \n",
            "                                                                 \n",
            " dense_98 (Dense)            (None, 64)                32832     \n",
            "                                                                 \n",
            " dense_99 (Dense)            (None, 10)                650       \n",
            "                                                                 \n",
            "=================================================================\n",
            "Total params: 435402 (1.66 MB)\n",
            "Trainable params: 435402 (1.66 MB)\n",
            "Non-trainable params: 0 (0.00 Byte)\n",
            "_________________________________________________________________\n",
            "Epoch 1/8\n",
            "4000/4000 [==============================] - 16s 4ms/step - loss: 0.2093 - accuracy: 0.9391\n",
            "Epoch 2/8\n",
            "4000/4000 [==============================] - 16s 4ms/step - loss: 0.0845 - accuracy: 0.9748\n",
            "Epoch 3/8\n",
            "4000/4000 [==============================] - 16s 4ms/step - loss: 0.0615 - accuracy: 0.9822\n",
            "Epoch 4/8\n",
            "4000/4000 [==============================] - 15s 4ms/step - loss: 0.0482 - accuracy: 0.9860\n",
            "Epoch 5/8\n",
            "4000/4000 [==============================] - 15s 4ms/step - loss: 0.0359 - accuracy: 0.9898\n",
            "Epoch 6/8\n",
            "4000/4000 [==============================] - 16s 4ms/step - loss: 0.0292 - accuracy: 0.9915\n",
            "Epoch 7/8\n",
            "4000/4000 [==============================] - 16s 4ms/step - loss: 0.0234 - accuracy: 0.9935\n",
            "Epoch 8/8\n",
            "4000/4000 [==============================] - 15s 4ms/step - loss: 0.0174 - accuracy: 0.9951\n",
            "313/313 [==============================] - 1s 3ms/step - loss: 0.0787 - accuracy: 0.9830\n",
            "New test accuracy: 0.9829999804496765\n"
          ]
        }
      ]
    }
  ],
  "metadata": {
    "kernelspec": {
      "display_name": "Python 3 (ipykernel)",
      "language": "python",
      "name": "python3"
    },
    "language_info": {
      "codemirror_mode": {
        "name": "ipython",
        "version": 3
      },
      "file_extension": ".py",
      "mimetype": "text/x-python",
      "name": "python",
      "nbconvert_exporter": "python",
      "pygments_lexer": "ipython3",
      "version": "3.7.13"
    },
    "colab": {
      "provenance": [],
      "include_colab_link": true
    }
  },
  "nbformat": 4,
  "nbformat_minor": 0
}