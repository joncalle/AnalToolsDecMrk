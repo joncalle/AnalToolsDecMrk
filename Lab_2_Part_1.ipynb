{
  "cells": [
    {
      "cell_type": "markdown",
      "metadata": {
        "id": "view-in-github",
        "colab_type": "text"
      },
      "source": [
        "<a href=\"https://colab.research.google.com/github/joncalle/AnalToolsDecMrk/blob/main/Lab_2_Part_1.ipynb\" target=\"_parent\"><img src=\"https://colab.research.google.com/assets/colab-badge.svg\" alt=\"Open In Colab\"/></a>"
      ]
    },
    {
      "cell_type": "markdown",
      "source": [
        "Group - 9\n",
        "\n",
        "Danielle do Val Goncalves Tudeia - W0823569\n",
        "\n",
        "Fernanda Barbieri de Camargo - W0825882\n",
        "\n",
        "Jonathan Calle - W0825959\n",
        "\n",
        "Jonathan Chukwuma Oteh - W0775057"
      ],
      "metadata": {
        "id": "OWd1lXTVrUGN"
      },
      "id": "OWd1lXTVrUGN"
    },
    {
      "cell_type": "markdown",
      "metadata": {
        "id": "77b9a642"
      },
      "source": [
        "# Lab 2 - Image preprocessing and using a fully connected neural network for image classification.\n",
        "\n",
        "This lab will be done in two parts\n",
        "\n",
        "\n",
        "> Indented block\n",
        "\n",
        "*   Part 1 - Task 1 - 4\n",
        "*   Part 2 - Task 5 & 6\n",
        "\n",
        "\n",
        "---\n",
        "\n",
        "In this lab, we will take our first steps toward running our code in the cloud. One of the simplest way to accomplish this is through Google's free (although, there is a paid Pro version) service, **Colab**.\n",
        "\n",
        "This lab has 3 main tasks:\n",
        "\n",
        "- **Task 1**: Get set up with Google Colab\n",
        "- **Task 2**: Get the neural network you created in **Lab 1: Exercise 7** running without error in Google Colab\n",
        "- **Task 3**: Preprocess images for use in Part 2 (20 Marks)\n",
        "- **Task 4** **Viva** - Question will be based on Week 1 & 2 (Lectures & Labs) (10)\n",
        "\n",
        "*** Viva will be conducted during Week 3 & 4 during yours Lab sessions**\n",
        "\n"
      ],
      "id": "77b9a642"
    },
    {
      "cell_type": "code",
      "execution_count": 14,
      "metadata": {
        "colab": {
          "base_uri": "https://localhost:8080/"
        },
        "id": "K0ChO3zVfWbL",
        "outputId": "dbb56aa7-e6e0-4f7b-9eef-2ec85ca78fd0"
      },
      "outputs": [
        {
          "output_type": "stream",
          "name": "stdout",
          "text": [
            "Drive already mounted at /content/drive; to attempt to forcibly remount, call drive.mount(\"/content/drive\", force_remount=True).\n"
          ]
        }
      ],
      "source": [
        "from google.colab import drive\n",
        "drive.mount('/content/drive')"
      ],
      "id": "K0ChO3zVfWbL"
    },
    {
      "cell_type": "markdown",
      "metadata": {
        "id": "049e5f74"
      },
      "source": [
        "## Task 1\n",
        "\n",
        "To use **Colab**, you need to have a Google account. To get a free Google account, go the the [sign up](https://accounts.google.com/) and fill in the necessary information. If you already have a Google account, you can skip this step. (If you have a gmail address, then you already have a Google Account.)\n",
        "\n",
        "!\n",
        "\n",
        "Once you have an account, you will need to sign in. To do this, go to [google.com](https://google.com):\n",
        "\n",
        "<img src=\"images/google_signin.png\" width=600 align=\"center\">\n",
        "\n",
        "After you are signed in, navigate to [Google Colab](https://colab.research.google.com).\n",
        "\n",
        "<img src=\"images/colab_intro.png\" width=600 align=\"center\">\n",
        "\n",
        "From here, click on **New Notebook**, give the notebook a name and then **save** it. Now you should verify the folder structure in **Google Drive**. To do this, you should navigate back to [google.com](https://google.com), and select **Drive** from the menu at the top right:\n",
        "\n",
        "<img src=\"images/drive.png\" width=600 align=\"center\">\n",
        "\n",
        "Once you are in your Google Drive, you should have a folder structure identical to the following (the name you gave your notebook can be different):\n",
        "<img src=\"images/colab_notebook_save.png\" width=600 align=\"center\">"
      ],
      "id": "049e5f74"
    },
    {
      "cell_type": "markdown",
      "metadata": {
        "id": "c08199bc"
      },
      "source": [
        "## Task 2\n",
        "\n",
        "Following the procedure outlined in Lab 1, reproduce the code created in Exercise 7 in Google Colab. Verify that you get similar results using the same MNIST data that you used for Lab 1.\n",
        "\n",
        "To upload the Lab 1 file (or any other file) to your Google Drive, simply click on the **New** button in the top left, and then selct **File upload**:\n",
        "\n",
        "<img src=\"images/lab_upload.png\" width=600 align=\"center\">\n"
      ],
      "id": "c08199bc"
    },
    {
      "cell_type": "markdown",
      "metadata": {
        "id": "b72ccd53"
      },
      "source": [
        "### Extra Computational Power\n",
        "\n",
        "One reason to use Google Colab is because it offers extra computational power in the form of access to GPUs for training larger models. As this is a free service, the extra compute resources come with some limitations (see Resource Limits section in the [FAQ](https://research.google.com/colaboratory/faq.html)). To access these extra compute resources, select the **Runtime** tab:\n",
        "\n",
        "<img src=\"images/runtime_1.png\" width=600 align=\"center\">\n",
        "\n",
        "Then select **Change runtime type**, choose **GPU** from the drop-down menu, and click **Save**:\n",
        "\n",
        "<img src=\"images/runtime_2.png\" width=600 align=\"center\">\n",
        "\n",
        "Now, when you run code in that notebook, it can run on GPUs instead of CPUs."
      ],
      "id": "b72ccd53"
    },
    {
      "cell_type": "code",
      "execution_count": 15,
      "metadata": {
        "id": "4ca6020d"
      },
      "outputs": [],
      "source": [
        "from tensorflow.keras.datasets import mnist\n",
        "\n",
        "(train_images, train_labels), (test_images, test_labels) = mnist.load_data()"
      ],
      "id": "4ca6020d"
    },
    {
      "cell_type": "code",
      "execution_count": 16,
      "metadata": {
        "colab": {
          "base_uri": "https://localhost:8080/",
          "height": 447
        },
        "id": "q388CfFGk5CW",
        "outputId": "b4aef352-d21d-4f97-dace-a40766995677"
      },
      "outputs": [
        {
          "output_type": "execute_result",
          "data": {
            "text/plain": [
              "<matplotlib.image.AxesImage at 0x7fbc7c2591b0>"
            ]
          },
          "metadata": {},
          "execution_count": 16
        },
        {
          "output_type": "display_data",
          "data": {
            "text/plain": [
              "<Figure size 640x480 with 1 Axes>"
            ],
            "image/png": "[encoded data removed]"
          },
          "metadata": {}
        }
      ],
      "source": [
        "import matplotlib.pyplot as plt\n",
        "\n",
        "plt.imshow(train_images[1], cmap='gray')"
      ],
      "id": "q388CfFGk5CW"
    },
    {
      "cell_type": "code",
      "execution_count": 17,
      "metadata": {
        "id": "wmVPCpt4lgYV"
      },
      "outputs": [],
      "source": [
        "train_images = train_images.astype('float32') / 255\n",
        "train_images = train_images.reshape((60000, 28 * 28))\n",
        "\n",
        "test_images = test_images.astype('float32') / 255\n",
        "test_images = test_images.reshape((10000, 28 * 28))"
      ],
      "id": "wmVPCpt4lgYV"
    },
    {
      "cell_type": "code",
      "execution_count": 18,
      "metadata": {
        "id": "n-MzcFlYnc1H"
      },
      "outputs": [],
      "source": [
        "from tensorflow.keras.utils import to_categorical\n",
        "\n",
        "train_labels = to_categorical(train_labels)\n",
        "test_labels = to_categorical(test_labels)"
      ],
      "id": "n-MzcFlYnc1H"
    },
    {
      "cell_type": "code",
      "execution_count": 19,
      "metadata": {
        "colab": {
          "base_uri": "https://localhost:8080/"
        },
        "id": "hrTxfbIhnilU",
        "outputId": "38535b04-9d3e-42c7-ee64-e8b5244cf271"
      },
      "outputs": [
        {
          "output_type": "stream",
          "name": "stdout",
          "text": [
            "Model: \"sequential_1\"\n",
            "_________________________________________________________________\n",
            " Layer (type)                Output Shape              Param #   \n",
            "=================================================================\n",
            " dense_3 (Dense)             (None, 512)               401920    \n",
            "                                                                 \n",
            " dense_4 (Dense)             (None, 64)                32832     \n",
            "                                                                 \n",
            " dense_5 (Dense)             (None, 10)                650       \n",
            "                                                                 \n",
            "=================================================================\n",
            "Total params: 435402 (1.66 MB)\n",
            "Trainable params: 435402 (1.66 MB)\n",
            "Non-trainable params: 0 (0.00 Byte)\n",
            "_________________________________________________________________\n",
            "Epoch 1/8\n",
            "4000/4000 [==============================] - 13s 3ms/step - loss: 0.2118 - accuracy: 0.9394\n",
            "Epoch 2/8\n",
            "4000/4000 [==============================] - 12s 3ms/step - loss: 0.0864 - accuracy: 0.9743\n",
            "Epoch 3/8\n",
            "4000/4000 [==============================] - 12s 3ms/step - loss: 0.0636 - accuracy: 0.9812\n",
            "Epoch 4/8\n",
            "4000/4000 [==============================] - 12s 3ms/step - loss: 0.0487 - accuracy: 0.9859\n",
            "Epoch 5/8\n",
            "4000/4000 [==============================] - 11s 3ms/step - loss: 0.0378 - accuracy: 0.9890\n",
            "Epoch 6/8\n",
            "4000/4000 [==============================] - 12s 3ms/step - loss: 0.0299 - accuracy: 0.9911\n",
            "Epoch 7/8\n",
            "4000/4000 [==============================] - 12s 3ms/step - loss: 0.0239 - accuracy: 0.9932\n",
            "Epoch 8/8\n",
            "4000/4000 [==============================] - 12s 3ms/step - loss: 0.0174 - accuracy: 0.9948\n",
            "313/313 [==============================] - 1s 2ms/step - loss: 0.0657 - accuracy: 0.9827\n",
            "New test accuracy: 0.982699990272522\n"
          ]
        }
      ],
      "source": [
        "from tensorflow.keras.models import Sequential\n",
        "from tensorflow.keras.layers import Dense\n",
        "\n",
        "network8 = Sequential()\n",
        "network8.add(Dense(512, activation='relu', input_shape=(28 * 28,)))\n",
        "network8.add(Dense(64, activation='sigmoid'))\n",
        "network8.add(Dense(10, activation='softmax'))\n",
        "network8.summary()\n",
        "network8.compile(optimizer='rmsprop',\n",
        "                loss='categorical_crossentropy',\n",
        "                metrics=['accuracy'])\n",
        "\n",
        "network8.fit(train_images, train_labels, epochs=8, batch_size=15, verbose=1)\n",
        "test_loss4, test_acc8 = network8.evaluate(test_images, test_labels)\n",
        "print('New test accuracy:', test_acc8)"
      ],
      "id": "hrTxfbIhnilU"
    },
    {
      "cell_type": "markdown",
      "metadata": {
        "id": "b6dafb6b"
      },
      "source": [
        "## Task 3\n",
        "\n",
        "The first step here is to upload the **Lego_small** data ([source](https://www.kaggle.com/joosthazelzet/lego-brick-images) that was provided with this notebook. (**Do not use the data from the *source* link.**) To do this, just upload the entire folder to your Google Drive. When you have done that you should have a folder structure that looks something like this:\n",
        "\n",
        "<img src=\"images/lab_upload_lego.png\" width=600 align=\"center\">"
      ],
      "id": "b6dafb6b"
    },
    {
      "cell_type": "markdown",
      "metadata": {
        "id": "cdcc8d7c"
      },
      "source": [
        "To have access to the data in your Google Drive, you will need to run the following code to 'mount' your Drive so it is accessible to the notebook you are running on Google Colab. When you run the code, following the instructions so that your notebook can access the data."
      ],
      "id": "cdcc8d7c"
    },
    {
      "cell_type": "code",
      "execution_count": 20,
      "metadata": {
        "id": "d0a24fec",
        "colab": {
          "base_uri": "https://localhost:8080/"
        },
        "outputId": "da2fb375-749c-4b01-b637-62a73bf58d95"
      },
      "outputs": [
        {
          "output_type": "stream",
          "name": "stdout",
          "text": [
            "Drive already mounted at /content/drive; to attempt to forcibly remount, call drive.mount(\"/content/drive\", force_remount=True).\n"
          ]
        }
      ],
      "source": [
        "from google.colab import drive\n",
        "\n",
        "drive.mount('/content/drive')"
      ],
      "id": "d0a24fec"
    },
    {
      "cell_type": "code",
      "source": [],
      "metadata": {
        "id": "z10l-rrTqoM_"
      },
      "id": "z10l-rrTqoM_",
      "execution_count": null,
      "outputs": []
    },
    {
      "cell_type": "markdown",
      "metadata": {
        "id": "dc73cc96"
      },
      "source": [
        "Now, you need to convert the images you just uploaded into a data structure similar to the MNIST data from Lab 1. The number of images and the pixel dimensions are, however, different than the MNIST data.\n",
        "\n",
        "**The goal here is to get the data into the correct shape so that you can use it with a fully connected neural network.**\n",
        "\n",
        "To accomplish this task, you will need to:\n",
        " - load the images from the various folders of the provided data\n",
        " - make sure they are grayscale and not RGB\n",
        " - convert the images to NumPy arrays\n",
        " - resize any images that are not the correct size\n",
        " - store these arrays in the proper shape in an appropriate data structure\n",
        " - create a target array to keep track of the proper class of each image in your data\n",
        " - view a few images after processing to verify that everything is working as it should\n",
        " - convert image arrays to one-dimensional and scale the pixel values so they are between 0 and 1\n",
        " - verify the images and target arrays have the correct dimensions\n",
        " - convert string labels to integers\n",
        "\n",
        "Aside from the packages imported below, you may find the following helpful to process the images properly:\n",
        " - [info](https://realpython.com/python-pathlib/) on `Path` so you know how to create a path to the images\n",
        " - the `.name` method that can the file or directory name from a `Path` object\n",
        " - the `.reshape()` method\n",
        " - the `.append()` method\n",
        "\n",
        "**Note that not all of the tasks above have starter code below, so be sure you have completed all tasks.**"
      ],
      "id": "dc73cc96"
    },
    {
      "cell_type": "code",
      "execution_count": 21,
      "metadata": {
        "id": "d94e74d7"
      },
      "outputs": [],
      "source": [
        "from tensorflow.keras.preprocessing.image import load_img, img_to_array, smart_resize\n",
        "import matplotlib.pyplot as plt\n",
        "from pathlib import Path\n",
        "import numpy as np"
      ],
      "id": "d94e74d7"
    },
    {
      "cell_type": "markdown",
      "metadata": {
        "id": "c80299e6"
      },
      "source": [
        "Fill in the missing elements of the starter code below."
      ],
      "id": "c80299e6"
    },
    {
      "cell_type": "code",
      "execution_count": 22,
      "metadata": {
        "id": "2cb5a124",
        "colab": {
          "base_uri": "https://localhost:8080/"
        },
        "outputId": "0e468f21-3965-4444-e4b5-13eb2e87a26e"
      },
      "outputs": [
        {
          "output_type": "stream",
          "name": "stdout",
          "text": [
            "/content/drive/MyDrive/Colab Notebooks/Lego_small\n"
          ]
        }
      ],
      "source": [
        "p = Path().cwd()\n",
        "q =  p / '/content/drive/MyDrive/Colab Notebooks/Lego_small' # None # use p to create a path to the data\n",
        "print(q)\n",
        "\n",
        "target_dict = {\"brick 1X2\": 0,\n",
        "               \"brick 2X2\": 1,\n",
        "               \"brick 2X4\": 2,\n",
        "               \"plate 1X2\": 3,\n",
        "               \"plate 2X2\": 4,\n",
        "               \"plate 2X4\": 5} # create dictionary mapping Lego block type to integer label\n",
        "images = [] # create an empty list\n",
        "labels = [] # create an empty list\n",
        "\n",
        "for fldr in q.iterdir():\n",
        "    current_label = fldr.name # get the name of the current label\n",
        "    for img in fldr.iterdir():\n",
        "        img = load_img(img, color_mode = 'grayscale') # load a grayscale image\n",
        "        img_array = img_to_array(img) # convert the image to an NumPy array\n",
        "        img_array_resized = smart_resize(img_array, [128,128]) # resize the image to 128 by 128\n",
        "        img_array_reshaped = img_array_resized.reshape(128, 128) # reshape the image from (128, 128, 1) to (128, 128)\n",
        "        images.append(img_array_reshaped)# add reshaped image to list of images\n",
        "        labels.append(current_label)# add label for this image to the list of labels\n",
        "\n",
        "images = np.array(images) # convert the list of images to a NumPy array\n",
        "labels = np.array(labels) # convert the list of labels to a NumPy array"
      ],
      "id": "2cb5a124"
    },
    {
      "cell_type": "code",
      "execution_count": 25,
      "metadata": {
        "id": "7e46b22a",
        "colab": {
          "base_uri": "https://localhost:8080/",
          "height": 451
        },
        "outputId": "3e03b319-ef78-4b62-aa87-d90ee5fb310e"
      },
      "outputs": [
        {
          "output_type": "execute_result",
          "data": {
            "text/plain": [
              "<matplotlib.image.AxesImage at 0x7fbc890b2110>"
            ]
          },
          "metadata": {},
          "execution_count": 25
        },
        {
          "output_type": "display_data",
          "data": {
            "text/plain": [
              "<Figure size 640x480 with 1 Axes>"
            ],
            "image/png": "[encoded data removed]"
          },
          "metadata": {}
        }
      ],
      "source": [
        "# use plt.imshow() to view a few of the grayscale images\n",
        "\n",
        "plt.imshow(images[10], cmap='gray')"
      ],
      "id": "7e46b22a"
    },
    {
      "cell_type": "code",
      "execution_count": 30,
      "metadata": {
        "id": "91df13f9",
        "colab": {
          "base_uri": "https://localhost:8080/"
        },
        "outputId": "29e290b0-fa51-4bc3-9819-2977cfb1125e"
      },
      "outputs": [
        {
          "output_type": "stream",
          "name": "stdout",
          "text": [
            "Original labels: ['brick', 'brick', 'brick', 'plate', 'plate', 'plate']\n",
            "Encoded labels: [0, 0, 0, 1, 1, 1]\n"
          ]
        }
      ],
      "source": [
        "# Sample target_dict mapping string labels to integers\n",
        "target_dict = {'brick': 0, 'plate': 1}\n",
        "\n",
        "# Sample string labels\n",
        "string_labels = ['brick', 'brick', 'brick', 'plate', 'plate', 'plate']\n",
        "\n",
        "# Convert string labels to integers using the target_dict\n",
        "labels_int = [target_dict[label] for label in string_labels]\n",
        "\n",
        "print(\"Original labels:\", string_labels)\n",
        "print(\"Encoded labels:\", labels_int) # use the target_dict to convert the string labels to an array of integers\n"
      ],
      "id": "91df13f9"
    },
    {
      "cell_type": "markdown",
      "metadata": {
        "id": "pXyIRiIoho6U"
      },
      "source": [
        "**Answer the following questions briefly**\n",
        "\n",
        "1. Why do you convert all the images to same dimensions?\n",
        "2. Why do you reshape the images?\n",
        "3. Based on the images and labels obtained after all of the above preprocessing steps, how many neurons will be created in the input and output layers for the fully linked network that you will construct in Lab 2 - Part 2?\n",
        "\n",
        "\n",
        "\n",
        "\n"
      ],
      "id": "pXyIRiIoho6U"
    },
    {
      "cell_type": "markdown",
      "source": [
        "**Why do you convert all the images to same dimensions?**\n",
        "\n",
        "\n",
        "For consistency in model input, images are downsized to the same dimensions, meeting model architectural requirements,decreasing complexity, enabling efficient processing, ensuring uniform feature learning, and improving memory and storage efficiency.\n",
        "It also conforms to pre-trained model expectations and helps batch processing."
      ],
      "metadata": {
        "id": "mTO3XLWuhfqf"
      },
      "id": "mTO3XLWuhfqf"
    },
    {
      "cell_type": "markdown",
      "source": [
        "**Why do you reshape the images?**\n",
        "\n",
        "\n",
        "To maintain a consistent input format for machine learning models, pictures are reshaped. For neural networks to analyse images consistently and similarly, it is a crucial preprocessing step. Images are reshaped into a format that is consistent with the model's expectations, enabling effective training and guaranteeing that the model can successfully learn features from the data."
      ],
      "metadata": {
        "id": "pKITCQPCidVr"
      },
      "id": "pKITCQPCidVr"
    },
    {
      "cell_type": "markdown",
      "source": [
        "**Based on the images and labels obtained after all of the above preprocessing steps, how many neurons will be created in the input and output layers for the fully linked network that you will construct in Lab 2 - Part 2?**\n",
        "\n",
        "input = 784 Neurons\n",
        "\n",
        "\n",
        "output = 10 Neurons"
      ],
      "metadata": {
        "id": "KYcxa44Np4Nv"
      },
      "id": "KYcxa44Np4Nv"
    }
  ],
  "metadata": {
    "accelerator": "GPU",
    "colab": {
      "provenance": [],
      "include_colab_link": true
    },
    "kernelspec": {
      "display_name": "Python 3",
      "name": "python3"
    },
    "language_info": {
      "codemirror_mode": {
        "name": "ipython",
        "version": 3
      },
      "file_extension": ".py",
      "mimetype": "text/x-python",
      "name": "python",
      "nbconvert_exporter": "python",
      "pygments_lexer": "ipython3",
      "version": "3.7.13"
    }
  },
  "nbformat": 4,
  "nbformat_minor": 5
}