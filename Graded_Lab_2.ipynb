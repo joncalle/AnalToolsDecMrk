{
  "cells": [
    {
      "cell_type": "markdown",
      "metadata": {
        "id": "-ZrTg16eO_2D"
      },
      "source": [
        "## DAB200 -- Graded Lab 2\n",
        "\n",
        "In this lab, you will gain some experience in converting non-numeric features in a dataset to numeric so they can be used in a machine learning model.\n",
        "\n",
        "**Target**: to predict `Comb Unadj FE - Conventional Fuel`\n",
        "\n",
        "**Note**: There may be other \"features\" similar to the target, so these need to be removed from the data."
      ]
    },
    {
      "cell_type": "markdown",
      "metadata": {
        "id": "xC5Sv1WcO_2F"
      },
      "source": [
        "**Data set**: make sure you use the data assigned to your group!\n",
        "\n",
        "| Groups | Data set |\n",
        "| :-: | :-: |\n",
        "| 1-4 | veh15.csv |\n",
        "| 5-7 | veh16.csv |\n",
        "| 8-10 | veh17.csv |\n",
        "| 11-14 | veh18.csv |\n",
        "| 15-18 | veh19.csv |\n",
        "\n",
        "**Important Notes:**\n",
        "- Use [Chapter 6](https://mlbook.explained.ai/catvars.html) of the textbook as a **guide**:\n",
        "     - you only need to use **random forest** models;\n",
        "- Code submitted for this lab should be:\n",
        "     - error free\n",
        "         - to make sure this is the case, before submitting, close all Jupyter notebooks, exit Anaconda, reload the lab notebook and execute all cells\n",
        "     - final code\n",
        "         - this means that I don't want to see every piece of code you try as you work through this lab but only the final code; only the code that fulfills the objective\n",
        "- Use the **out-of-bag score** to evaluate models\n",
        "     - Read Section 5.2 carefully so that you use this method properly\n",
        "     - The oob score that you provide should be the average of 10 runs\n",
        "- Don't make assumptions!\n"
      ]
    },
    {
      "cell_type": "markdown",
      "metadata": {
        "id": "aRlCrDTpO_2G"
      },
      "source": [
        "### Part 0\n",
        "\n",
        "Please provide the following information:\n",
        " - Group Number:   12\n",
        " - Group Members\n",
        "     - Jonathan Alberto Calle Zuniga (0825959)\n",
        "     - Jonathan Chukwuma OTEH (0775057)\n",
        "     - Ali Salman (0840471)\n"
      ]
    },
    {
      "cell_type": "markdown",
      "metadata": {
        "id": "rIrN45-FO_2H"
      },
      "source": [
        "### Part 1 - Create and evaluate an initial model\n",
        "\n",
        "In this part you should:\n",
        " - read in the data\n",
        " - isolate all numeric features from original data set\n",
        " - verify there are no missing values\n",
        " - create and evaluate a baseline model\n",
        "\n",
        "#### Code (15 marks)"
      ]
    },
    {
      "cell_type": "code",
      "source": [
        "!pip install rfpimp"
      ],
      "metadata": {
        "id": "Fx9roMUeQyXK",
        "outputId": "b87ebb21-d8c5-4d65-a45b-ad3cea44415c",
        "colab": {
          "base_uri": "https://localhost:8080/"
        }
      },
      "execution_count": null,
      "outputs": [
        {
          "output_type": "stream",
          "name": "stdout",
          "text": [
            "Collecting rfpimp\n",
            "  Downloading rfpimp-1.3.7.tar.gz (10 kB)\n",
            "  Preparing metadata (setup.py) ... \u001b[?25l\u001b[?25hdone\n",
            "Requirement already satisfied: numpy in /usr/local/lib/python3.10/dist-packages (from rfpimp) (1.22.4)\n",
            "Requirement already satisfied: pandas in /usr/local/lib/python3.10/dist-packages (from rfpimp) (1.5.3)\n",
            "Requirement already satisfied: scikit-learn in /usr/local/lib/python3.10/dist-packages (from rfpimp) (1.2.2)\n",
            "Requirement already satisfied: matplotlib in /usr/local/lib/python3.10/dist-packages (from rfpimp) (3.7.1)\n",
            "Requirement already satisfied: contourpy>=1.0.1 in /usr/local/lib/python3.10/dist-packages (from matplotlib->rfpimp) (1.1.0)\n",
            "Requirement already satisfied: cycler>=0.10 in /usr/local/lib/python3.10/dist-packages (from matplotlib->rfpimp) (0.11.0)\n",
            "Requirement already satisfied: fonttools>=4.22.0 in /usr/local/lib/python3.10/dist-packages (from matplotlib->rfpimp) (4.40.0)\n",
            "Requirement already satisfied: kiwisolver>=1.0.1 in /usr/local/lib/python3.10/dist-packages (from matplotlib->rfpimp) (1.4.4)\n",
            "Requirement already satisfied: packaging>=20.0 in /usr/local/lib/python3.10/dist-packages (from matplotlib->rfpimp) (23.1)\n",
            "Requirement already satisfied: pillow>=6.2.0 in /usr/local/lib/python3.10/dist-packages (from matplotlib->rfpimp) (8.4.0)\n",
            "Requirement already satisfied: pyparsing>=2.3.1 in /usr/local/lib/python3.10/dist-packages (from matplotlib->rfpimp) (3.1.0)\n",
            "Requirement already satisfied: python-dateutil>=2.7 in /usr/local/lib/python3.10/dist-packages (from matplotlib->rfpimp) (2.8.2)\n",
            "Requirement already satisfied: pytz>=2020.1 in /usr/local/lib/python3.10/dist-packages (from pandas->rfpimp) (2022.7.1)\n",
            "Requirement already satisfied: scipy>=1.3.2 in /usr/local/lib/python3.10/dist-packages (from scikit-learn->rfpimp) (1.10.1)\n",
            "Requirement already satisfied: joblib>=1.1.1 in /usr/local/lib/python3.10/dist-packages (from scikit-learn->rfpimp) (1.2.0)\n",
            "Requirement already satisfied: threadpoolctl>=2.0.0 in /usr/local/lib/python3.10/dist-packages (from scikit-learn->rfpimp) (3.1.0)\n",
            "Requirement already satisfied: six>=1.5 in /usr/local/lib/python3.10/dist-packages (from python-dateutil>=2.7->matplotlib->rfpimp) (1.16.0)\n",
            "Building wheels for collected packages: rfpimp\n",
            "  Building wheel for rfpimp (setup.py) ... \u001b[?25l\u001b[?25hdone\n",
            "  Created wheel for rfpimp: filename=rfpimp-1.3.7-py3-none-any.whl size=10649 sha256=f388d372105999db910c86b9057c2a5f2154fe4cc1306902d6ca2ca3d8722020\n",
            "  Stored in directory: /root/.cache/pip/wheels/6a/12/08/d5bc35127c8d69d39c1f3736a95419ab4763cc0c80ed65bf41\n",
            "Successfully built rfpimp\n",
            "Installing collected packages: rfpimp\n",
            "Successfully installed rfpimp-1.3.7\n"
          ]
        }
      ]
    },
    {
      "cell_type": "code",
      "execution_count": null,
      "metadata": {
        "id": "M_ScKhJ-O_2I"
      },
      "outputs": [],
      "source": [
        "import numpy as np\n",
        "import pandas as pd\n",
        "from sklearn.ensemble import RandomForestRegressor\n",
        "from sklearn.metrics import *\n",
        "from sklearn.model_selection import train_test_split\n",
        "from rfpimp import *"
      ]
    },
    {
      "cell_type": "code",
      "execution_count": null,
      "metadata": {
        "colab": {
          "base_uri": "https://localhost:8080/",
          "height": 443
        },
        "id": "CnFvczfQPLo5",
        "outputId": "d08bcb1d-7eba-48a6-9720-2bfdd02a018d"
      },
      "outputs": [
        {
          "output_type": "stream",
          "name": "stdout",
          "text": [
            "(1163, 12)\n"
          ]
        },
        {
          "output_type": "execute_result",
          "data": {
            "text/plain": [
              "                                                                      0  \\\n",
              "Eng Displ                                                           5.2   \n",
              "# Cyl                                                                12   \n",
              "Comb Unadj FE - Conventional Fuel                               22.8444   \n",
              "# Gears                                                               8   \n",
              "Max Ethanol % - Gasoline                                           10.0   \n",
              "Intake Valves Per Cyl                                                 2   \n",
              "Exhaust Valves Per Cyl                                                2   \n",
              "Fuel Metering Sys Desc             Multipoint/sequential fuel injection   \n",
              "Air Aspiration Method Desc                                 Turbocharged   \n",
              "Trans Desc                                               Semi-Automatic   \n",
              "Cyl Deact?                                                            Y   \n",
              "Var Valve Lift?                                                       N   \n",
              "\n",
              "                                                                      1  \n",
              "Eng Displ                                                           4.0  \n",
              "# Cyl                                                                 8  \n",
              "Comb Unadj FE - Conventional Fuel                               26.6603  \n",
              "# Gears                                                               8  \n",
              "Max Ethanol % - Gasoline                                           10.0  \n",
              "Intake Valves Per Cyl                                                 2  \n",
              "Exhaust Valves Per Cyl                                                2  \n",
              "Fuel Metering Sys Desc             Multipoint/sequential fuel injection  \n",
              "Air Aspiration Method Desc                                 Turbocharged  \n",
              "Trans Desc                                               Semi-Automatic  \n",
              "Cyl Deact?                                                            N  \n",
              "Var Valve Lift?                                                       N  "
            ],
            "text/html": [
              "\n",
              "  <div id=\"df-0fa125e4-73fc-4910-a9ce-02b7c299793a\">\n",
              "    <div class=\"colab-df-container\">\n",
              "      <div>\n",
              "<style scoped>\n",
              "    .dataframe tbody tr th:only-of-type {\n",
              "        vertical-align: middle;\n",
              "    }\n",
              "\n",
              "    .dataframe tbody tr th {\n",
              "        vertical-align: top;\n",
              "    }\n",
              "\n",
              "    .dataframe thead th {\n",
              "        text-align: right;\n",
              "    }\n",
              "</style>\n",
              "<table border=\"1\" class=\"dataframe\">\n",
              "  <thead>\n",
              "    <tr style=\"text-align: right;\">\n",
              "      <th></th>\n",
              "      <th>0</th>\n",
              "      <th>1</th>\n",
              "    </tr>\n",
              "  </thead>\n",
              "  <tbody>\n",
              "    <tr>\n",
              "      <th>Eng Displ</th>\n",
              "      <td>5.2</td>\n",
              "      <td>4.0</td>\n",
              "    </tr>\n",
              "    <tr>\n",
              "      <th># Cyl</th>\n",
              "      <td>12</td>\n",
              "      <td>8</td>\n",
              "    </tr>\n",
              "    <tr>\n",
              "      <th>Comb Unadj FE - Conventional Fuel</th>\n",
              "      <td>22.8444</td>\n",
              "      <td>26.6603</td>\n",
              "    </tr>\n",
              "    <tr>\n",
              "      <th># Gears</th>\n",
              "      <td>8</td>\n",
              "      <td>8</td>\n",
              "    </tr>\n",
              "    <tr>\n",
              "      <th>Max Ethanol % - Gasoline</th>\n",
              "      <td>10.0</td>\n",
              "      <td>10.0</td>\n",
              "    </tr>\n",
              "    <tr>\n",
              "      <th>Intake Valves Per Cyl</th>\n",
              "      <td>2</td>\n",
              "      <td>2</td>\n",
              "    </tr>\n",
              "    <tr>\n",
              "      <th>Exhaust Valves Per Cyl</th>\n",
              "      <td>2</td>\n",
              "      <td>2</td>\n",
              "    </tr>\n",
              "    <tr>\n",
              "      <th>Fuel Metering Sys Desc</th>\n",
              "      <td>Multipoint/sequential fuel injection</td>\n",
              "      <td>Multipoint/sequential fuel injection</td>\n",
              "    </tr>\n",
              "    <tr>\n",
              "      <th>Air Aspiration Method Desc</th>\n",
              "      <td>Turbocharged</td>\n",
              "      <td>Turbocharged</td>\n",
              "    </tr>\n",
              "    <tr>\n",
              "      <th>Trans Desc</th>\n",
              "      <td>Semi-Automatic</td>\n",
              "      <td>Semi-Automatic</td>\n",
              "    </tr>\n",
              "    <tr>\n",
              "      <th>Cyl Deact?</th>\n",
              "      <td>Y</td>\n",
              "      <td>N</td>\n",
              "    </tr>\n",
              "    <tr>\n",
              "      <th>Var Valve Lift?</th>\n",
              "      <td>N</td>\n",
              "      <td>N</td>\n",
              "    </tr>\n",
              "  </tbody>\n",
              "</table>\n",
              "</div>\n",
              "      <button class=\"colab-df-convert\" onclick=\"convertToInteractive('df-0fa125e4-73fc-4910-a9ce-02b7c299793a')\"\n",
              "              title=\"Convert this dataframe to an interactive table.\"\n",
              "              style=\"display:none;\">\n",
              "        \n",
              "  <svg xmlns=\"http://www.w3.org/2000/svg\" height=\"24px\"viewBox=\"0 0 24 24\"\n",
              "       width=\"24px\">\n",
              "    <path d=\"M0 0h24v24H0V0z\" fill=\"none\"/>\n",
              "    <path d=\"M18.56 5.44l.94 2.06.94-2.06 2.06-.94-2.06-.94-.94-2.06-.94 2.06-2.06.94zm-11 1L8.5 8.5l.94-2.06 2.06-.94-2.06-.94L8.5 2.5l-.94 2.06-2.06.94zm10 10l.94 2.06.94-2.06 2.06-.94-2.06-.94-.94-2.06-.94 2.06-2.06.94z\"/><path d=\"M17.41 7.96l-1.37-1.37c-.4-.4-.92-.59-1.43-.59-.52 0-1.04.2-1.43.59L10.3 9.45l-7.72 7.72c-.78.78-.78 2.05 0 2.83L4 21.41c.39.39.9.59 1.41.59.51 0 1.02-.2 1.41-.59l7.78-7.78 2.81-2.81c.8-.78.8-2.07 0-2.86zM5.41 20L4 18.59l7.72-7.72 1.47 1.35L5.41 20z\"/>\n",
              "  </svg>\n",
              "      </button>\n",
              "      \n",
              "  <style>\n",
              "    .colab-df-container {\n",
              "      display:flex;\n",
              "      flex-wrap:wrap;\n",
              "      gap: 12px;\n",
              "    }\n",
              "\n",
              "    .colab-df-convert {\n",
              "      background-color: #E8F0FE;\n",
              "      border: none;\n",
              "      border-radius: 50%;\n",
              "      cursor: pointer;\n",
              "      display: none;\n",
              "      fill: #1967D2;\n",
              "      height: 32px;\n",
              "      padding: 0 0 0 0;\n",
              "      width: 32px;\n",
              "    }\n",
              "\n",
              "    .colab-df-convert:hover {\n",
              "      background-color: #E2EBFA;\n",
              "      box-shadow: 0px 1px 2px rgba(60, 64, 67, 0.3), 0px 1px 3px 1px rgba(60, 64, 67, 0.15);\n",
              "      fill: #174EA6;\n",
              "    }\n",
              "\n",
              "    [theme=dark] .colab-df-convert {\n",
              "      background-color: #3B4455;\n",
              "      fill: #D2E3FC;\n",
              "    }\n",
              "\n",
              "    [theme=dark] .colab-df-convert:hover {\n",
              "      background-color: #434B5C;\n",
              "      box-shadow: 0px 1px 3px 1px rgba(0, 0, 0, 0.15);\n",
              "      filter: drop-shadow(0px 1px 2px rgba(0, 0, 0, 0.3));\n",
              "      fill: #FFFFFF;\n",
              "    }\n",
              "  </style>\n",
              "\n",
              "      <script>\n",
              "        const buttonEl =\n",
              "          document.querySelector('#df-0fa125e4-73fc-4910-a9ce-02b7c299793a button.colab-df-convert');\n",
              "        buttonEl.style.display =\n",
              "          google.colab.kernel.accessAllowed ? 'block' : 'none';\n",
              "\n",
              "        async function convertToInteractive(key) {\n",
              "          const element = document.querySelector('#df-0fa125e4-73fc-4910-a9ce-02b7c299793a');\n",
              "          const dataTable =\n",
              "            await google.colab.kernel.invokeFunction('convertToInteractive',\n",
              "                                                     [key], {});\n",
              "          if (!dataTable) return;\n",
              "\n",
              "          const docLinkHtml = 'Like what you see? Visit the ' +\n",
              "            '<a target=\"_blank\" href=https://colab.research.google.com/notebooks/data_table.ipynb>data table notebook</a>'\n",
              "            + ' to learn more about interactive tables.';\n",
              "          element.innerHTML = '';\n",
              "          dataTable['output_type'] = 'display_data';\n",
              "          await google.colab.output.renderOutput(dataTable, element);\n",
              "          const docLink = document.createElement('div');\n",
              "          docLink.innerHTML = docLinkHtml;\n",
              "          element.appendChild(docLink);\n",
              "        }\n",
              "      </script>\n",
              "    </div>\n",
              "  </div>\n",
              "  "
            ]
          },
          "metadata": {},
          "execution_count": 3
        }
      ],
      "source": [
        "veh_18 = pd.read_csv(\"https://raw.githubusercontent.com/joncalle/ML1/main/veh18.csv\")\n",
        "print(veh_18.shape) # print rows, columns\n",
        "veh_18.head(2).T      # dump first 2 rows"
      ]
    },
    {
      "cell_type": "code",
      "execution_count": null,
      "metadata": {
        "id": "PLhbr5NmTU2k"
      },
      "outputs": [],
      "source": [
        "#isolate all numeric features from original data set\n",
        "features = ['Eng Displ', '# Cyl', 'Comb Unadj FE - Conventional Fuel', '# Gears',\n",
        "       'Max Ethanol % - Gasoline', 'Intake Valves Per Cyl',\n",
        "       'Exhaust Valves Per Cyl']\n",
        "\n",
        "df_veh = veh_18[features]"
      ]
    },
    {
      "cell_type": "code",
      "execution_count": null,
      "metadata": {
        "colab": {
          "base_uri": "https://localhost:8080/"
        },
        "id": "tDyREe2xVOYX",
        "outputId": "d2c42d8a-b11e-460f-bdbf-c4eeead19aa3"
      },
      "outputs": [
        {
          "output_type": "execute_result",
          "data": {
            "text/plain": [
              "Eng Displ                            0\n",
              "# Cyl                                0\n",
              "Comb Unadj FE - Conventional Fuel    0\n",
              "# Gears                              0\n",
              "Max Ethanol % - Gasoline             0\n",
              "Intake Valves Per Cyl                0\n",
              "Exhaust Valves Per Cyl               0\n",
              "Fuel Metering Sys Desc               0\n",
              "Air Aspiration Method Desc           0\n",
              "Trans Desc                           0\n",
              "Cyl Deact?                           0\n",
              "Var Valve Lift?                      0\n",
              "dtype: int64"
            ]
          },
          "metadata": {},
          "execution_count": 5
        }
      ],
      "source": [
        "#verify there are no missing values\n",
        "veh_18.isna().sum()"
      ]
    },
    {
      "cell_type": "code",
      "source": [
        "def evaluate(X, y, runs=10, randstat = 42, size = 0.2):\n",
        "    oob_scores = []\n",
        "    predictions =[]\n",
        "    for i in range(runs):\n",
        "        model = RandomForestRegressor(n_estimators=100, n_jobs=-1, oob_score=True, random_state=randstat)\n",
        "        X_train, X_test, y_train, y_test = train_test_split(X, y, test_size=size, random_state=randstat)\n",
        "        model.fit(X_train, y_train)\n",
        "        oob_scores.append(model.oob_score_)\n",
        "\n",
        "    avg_oob_score = sum(oob_scores) / len(oob_scores)\n",
        "    print(f\"Average OOB score over {runs:.0f} runs for model: {avg_oob_score:.4f}\")\n",
        "    return model, avg_oob_score"
      ],
      "metadata": {
        "id": "BQJKYbC8E_Pj"
      },
      "execution_count": null,
      "outputs": []
    },
    {
      "cell_type": "code",
      "execution_count": null,
      "metadata": {
        "colab": {
          "base_uri": "https://localhost:8080/"
        },
        "id": "vh5PdYhvVeVS",
        "outputId": "a7fbbd1c-ed8e-4009-c132-66e2ab668673"
      },
      "outputs": [
        {
          "output_type": "stream",
          "name": "stdout",
          "text": [
            "Average OOB score over 10 runs for model: 0.7224\n"
          ]
        }
      ],
      "source": [
        "X, y = df_veh.drop('Comb Unadj FE - Conventional Fuel', axis = 1), df_veh['Comb Unadj FE - Conventional Fuel']\n",
        "model1, oob_score1 = evaluate(X,y) #Base Model."
      ]
    },
    {
      "cell_type": "markdown",
      "metadata": {
        "id": "zpWp-CyCO_2I"
      },
      "source": [
        "#### Question (5 marks)\n",
        "Explain the purpose of creating a baseline model.\n",
        "\n",
        "A baseline model serves as a valuable reference point for assessing the performance of more intricate models in machine learning, enabling a comprehensive evaluation of the effectiveness of model enhancements. It plays a crucial role in verifying the proper preparation of data and the correctness of implementation. By establishing a baseline, any significant data issues or anomalies can be identified. In the event that the baseline model exhibits poor performance, it serves as an indicator for the need to undertake further fixes and improvements."
      ]
    },
    {
      "cell_type": "markdown",
      "metadata": {
        "id": "Iio4pydvO_2J"
      },
      "source": [
        "### Part 2 - Convert non-numeric features to numeric\n",
        "\n",
        "In this part you should:\n",
        " - convert **all** non-numeric features to numeric\n",
        " - one of the conversions should use **one-hot encoding**\n",
        " - create **one new feature** by combining 2 or more of the existing features\n",
        "\n",
        "#### Code (25 marks)"
      ]
    },
    {
      "cell_type": "code",
      "execution_count": null,
      "metadata": {
        "colab": {
          "base_uri": "https://localhost:8080/"
        },
        "id": "WpzyzgFEO_2J",
        "outputId": "9b9e85af-7785-48bb-d5c7-4aa35bc3e916"
      },
      "outputs": [
        {
          "output_type": "stream",
          "name": "stdout",
          "text": [
            "['Multipoint/sequential fuel injection' 'Spark Ignition Direct Injection'\n",
            " 'Spark Ignition direct & ported injection']\n",
            "['Turbocharged' 'Naturally Aspirated' 'Supercharged'\n",
            " 'Turbocharged+Supercharged']\n",
            "['Semi-Automatic' 'Manual'\n",
            " 'Automated Manual- Selectable (e.g. Automated Manual with paddles)'\n",
            " 'Automatic' 'Automated Manual' 'Continuously Variable'\n",
            " 'Selectable Continuously Variable (e.g. CVT with paddles)']\n",
            "['Y' 'N']\n",
            "['N' 'Y']\n"
          ]
        }
      ],
      "source": [
        "features = ['Fuel Metering Sys Desc','Air Aspiration Method Desc','Trans Desc','Cyl Deact?','Var Valve Lift?']\n",
        "df2 = veh_18[features]\n",
        "for col in df2:\n",
        "  print(df2[col].unique())"
      ]
    },
    {
      "cell_type": "code",
      "source": [
        "def converting(df, feature_name, pref):\n",
        "  df[feature_name] = df[feature_name].values\n",
        "  df[feature_name] = df[feature_name].replace('None or Unspecified', np.nan)\n",
        "  onehot = pd.get_dummies(df[feature_name],\n",
        "                        prefix=pref,\n",
        "                        dtype=float)\n",
        "  del df2[feature_name]\n",
        "  df = pd.concat([df, onehot], axis=1)\n",
        "  return df"
      ],
      "metadata": {
        "id": "ZTLMe1t87uBs"
      },
      "execution_count": null,
      "outputs": []
    },
    {
      "cell_type": "code",
      "source": [
        "def convertingBol(df, feature_name):\n",
        "  df[feature_name] = df[feature_name].map({'N':0,'Y':1})\n",
        "  df[feature_name+'_cat'] = df[feature_name].astype('category').cat.codes + 1\n",
        "  del df[feature_name]\n",
        "  return df"
      ],
      "metadata": {
        "id": "7XJprRTY_DEo"
      },
      "execution_count": null,
      "outputs": []
    },
    {
      "cell_type": "code",
      "source": [
        "# Converting to categorical features\n",
        "df2 = converting(df2, 'Fuel Metering Sys Desc', 'Fuel Sys')\n",
        "df2 = converting(df2, 'Air Aspiration Method Desc', 'Air Asp')\n",
        "df2 = converting(df2, 'Trans Desc', 'Trans Desc')\n",
        "\n",
        "df2 = convertingBol(df2, 'Cyl Deact?')\n",
        "df2 = convertingBol(df2, 'Var Valve Lift?')\n",
        "\n",
        "# Creating a new feature by combining 2 existing\n",
        "df2['Valves Per Cyl'] = veh_18['Intake Valves Per Cyl'] + veh_18['Exhaust Valves Per Cyl']"
      ],
      "metadata": {
        "id": "9gCf43m09jDC"
      },
      "execution_count": null,
      "outputs": []
    },
    {
      "cell_type": "code",
      "source": [
        "df2"
      ],
      "metadata": {
        "id": "iiZWxs6A_o3_",
        "outputId": "049e893c-685f-4a5a-f0b4-6c958bbf49b4",
        "colab": {
          "base_uri": "https://localhost:8080/",
          "height": 609
        }
      },
      "execution_count": null,
      "outputs": [
        {
          "output_type": "execute_result",
          "data": {
            "text/plain": [
              "      Fuel Sys_Multipoint/sequential fuel injection  \\\n",
              "0                                               1.0   \n",
              "1                                               1.0   \n",
              "2                                               1.0   \n",
              "3                                               1.0   \n",
              "4                                               0.0   \n",
              "...                                             ...   \n",
              "1158                                            0.0   \n",
              "1159                                            1.0   \n",
              "1160                                            1.0   \n",
              "1161                                            1.0   \n",
              "1162                                            1.0   \n",
              "\n",
              "      Fuel Sys_Spark Ignition Direct Injection  \\\n",
              "0                                          0.0   \n",
              "1                                          0.0   \n",
              "2                                          0.0   \n",
              "3                                          0.0   \n",
              "4                                          1.0   \n",
              "...                                        ...   \n",
              "1158                                       1.0   \n",
              "1159                                       0.0   \n",
              "1160                                       0.0   \n",
              "1161                                       0.0   \n",
              "1162                                       0.0   \n",
              "\n",
              "      Fuel Sys_Spark Ignition direct & ported injection  \\\n",
              "0                                                   0.0   \n",
              "1                                                   0.0   \n",
              "2                                                   0.0   \n",
              "3                                                   0.0   \n",
              "4                                                   0.0   \n",
              "...                                                 ...   \n",
              "1158                                                0.0   \n",
              "1159                                                0.0   \n",
              "1160                                                0.0   \n",
              "1161                                                0.0   \n",
              "1162                                                0.0   \n",
              "\n",
              "      Air Asp_Naturally Aspirated  Air Asp_Supercharged  Air Asp_Turbocharged  \\\n",
              "0                             0.0                   0.0                   1.0   \n",
              "1                             0.0                   0.0                   1.0   \n",
              "2                             1.0                   0.0                   0.0   \n",
              "3                             1.0                   0.0                   0.0   \n",
              "4                             0.0                   0.0                   1.0   \n",
              "...                           ...                   ...                   ...   \n",
              "1158                          0.0                   0.0                   1.0   \n",
              "1159                          0.0                   0.0                   1.0   \n",
              "1160                          0.0                   0.0                   1.0   \n",
              "1161                          0.0                   0.0                   1.0   \n",
              "1162                          0.0                   0.0                   1.0   \n",
              "\n",
              "      Air Asp_Turbocharged+Supercharged  Trans Desc_Automated Manual  \\\n",
              "0                                   0.0                          0.0   \n",
              "1                                   0.0                          0.0   \n",
              "2                                   0.0                          0.0   \n",
              "3                                   0.0                          0.0   \n",
              "4                                   0.0                          0.0   \n",
              "...                                 ...                          ...   \n",
              "1158                                0.0                          0.0   \n",
              "1159                                0.0                          0.0   \n",
              "1160                                0.0                          0.0   \n",
              "1161                                0.0                          0.0   \n",
              "1162                                0.0                          0.0   \n",
              "\n",
              "      Trans Desc_Automated Manual- Selectable (e.g. Automated Manual with paddles)  \\\n",
              "0                                                   0.0                              \n",
              "1                                                   0.0                              \n",
              "2                                                   0.0                              \n",
              "3                                                   0.0                              \n",
              "4                                                   0.0                              \n",
              "...                                                 ...                              \n",
              "1158                                                0.0                              \n",
              "1159                                                0.0                              \n",
              "1160                                                0.0                              \n",
              "1161                                                0.0                              \n",
              "1162                                                0.0                              \n",
              "\n",
              "      Trans Desc_Automatic  Trans Desc_Continuously Variable  \\\n",
              "0                      0.0                               0.0   \n",
              "1                      0.0                               0.0   \n",
              "2                      0.0                               0.0   \n",
              "3                      0.0                               0.0   \n",
              "4                      0.0                               0.0   \n",
              "...                    ...                               ...   \n",
              "1158                   0.0                               0.0   \n",
              "1159                   1.0                               0.0   \n",
              "1160                   1.0                               0.0   \n",
              "1161                   1.0                               0.0   \n",
              "1162                   1.0                               0.0   \n",
              "\n",
              "      Trans Desc_Manual  \\\n",
              "0                   0.0   \n",
              "1                   0.0   \n",
              "2                   0.0   \n",
              "3                   0.0   \n",
              "4                   0.0   \n",
              "...                 ...   \n",
              "1158                0.0   \n",
              "1159                0.0   \n",
              "1160                0.0   \n",
              "1161                0.0   \n",
              "1162                0.0   \n",
              "\n",
              "      Trans Desc_Selectable Continuously Variable (e.g. CVT with paddles)  \\\n",
              "0                                                   0.0                     \n",
              "1                                                   0.0                     \n",
              "2                                                   0.0                     \n",
              "3                                                   0.0                     \n",
              "4                                                   0.0                     \n",
              "...                                                 ...                     \n",
              "1158                                                0.0                     \n",
              "1159                                                0.0                     \n",
              "1160                                                0.0                     \n",
              "1161                                                0.0                     \n",
              "1162                                                0.0                     \n",
              "\n",
              "      Trans Desc_Semi-Automatic  Cyl Deact?_cat  Var Valve Lift?_cat  \\\n",
              "0                           1.0               2                    1   \n",
              "1                           1.0               1                    1   \n",
              "2                           1.0               1                    1   \n",
              "3                           1.0               1                    1   \n",
              "4                           1.0               1                    2   \n",
              "...                         ...             ...                  ...   \n",
              "1158                        1.0               1                    1   \n",
              "1159                        0.0               1                    1   \n",
              "1160                        0.0               1                    1   \n",
              "1161                        0.0               1                    1   \n",
              "1162                        0.0               1                    1   \n",
              "\n",
              "      Valves Per Cyl  \n",
              "0                  4  \n",
              "1                  4  \n",
              "2                  4  \n",
              "3                  4  \n",
              "4                  4  \n",
              "...              ...  \n",
              "1158               4  \n",
              "1159               4  \n",
              "1160               4  \n",
              "1161               4  \n",
              "1162               4  \n",
              "\n",
              "[1163 rows x 17 columns]"
            ],
            "text/html": [
              "\n",
              "  <div id=\"df-fdfee75f-c629-48b6-8eaf-a5f5b3caafb4\">\n",
              "    <div class=\"colab-df-container\">\n",
              "      <div>\n",
              "<style scoped>\n",
              "    .dataframe tbody tr th:only-of-type {\n",
              "        vertical-align: middle;\n",
              "    }\n",
              "\n",
              "    .dataframe tbody tr th {\n",
              "        vertical-align: top;\n",
              "    }\n",
              "\n",
              "    .dataframe thead th {\n",
              "        text-align: right;\n",
              "    }\n",
              "</style>\n",
              "<table border=\"1\" class=\"dataframe\">\n",
              "  <thead>\n",
              "    <tr style=\"text-align: right;\">\n",
              "      <th></th>\n",
              "      <th>Fuel Sys_Multipoint/sequential fuel injection</th>\n",
              "      <th>Fuel Sys_Spark Ignition Direct Injection</th>\n",
              "      <th>Fuel Sys_Spark Ignition direct &amp; ported injection</th>\n",
              "      <th>Air Asp_Naturally Aspirated</th>\n",
              "      <th>Air Asp_Supercharged</th>\n",
              "      <th>Air Asp_Turbocharged</th>\n",
              "      <th>Air Asp_Turbocharged+Supercharged</th>\n",
              "      <th>Trans Desc_Automated Manual</th>\n",
              "      <th>Trans Desc_Automated Manual- Selectable (e.g. Automated Manual with paddles)</th>\n",
              "      <th>Trans Desc_Automatic</th>\n",
              "      <th>Trans Desc_Continuously Variable</th>\n",
              "      <th>Trans Desc_Manual</th>\n",
              "      <th>Trans Desc_Selectable Continuously Variable (e.g. CVT with paddles)</th>\n",
              "      <th>Trans Desc_Semi-Automatic</th>\n",
              "      <th>Cyl Deact?_cat</th>\n",
              "      <th>Var Valve Lift?_cat</th>\n",
              "      <th>Valves Per Cyl</th>\n",
              "    </tr>\n",
              "  </thead>\n",
              "  <tbody>\n",
              "    <tr>\n",
              "      <th>0</th>\n",
              "      <td>1.0</td>\n",
              "      <td>0.0</td>\n",
              "      <td>0.0</td>\n",
              "      <td>0.0</td>\n",
              "      <td>0.0</td>\n",
              "      <td>1.0</td>\n",
              "      <td>0.0</td>\n",
              "      <td>0.0</td>\n",
              "      <td>0.0</td>\n",
              "      <td>0.0</td>\n",
              "      <td>0.0</td>\n",
              "      <td>0.0</td>\n",
              "      <td>0.0</td>\n",
              "      <td>1.0</td>\n",
              "      <td>2</td>\n",
              "      <td>1</td>\n",
              "      <td>4</td>\n",
              "    </tr>\n",
              "    <tr>\n",
              "      <th>1</th>\n",
              "      <td>1.0</td>\n",
              "      <td>0.0</td>\n",
              "      <td>0.0</td>\n",
              "      <td>0.0</td>\n",
              "      <td>0.0</td>\n",
              "      <td>1.0</td>\n",
              "      <td>0.0</td>\n",
              "      <td>0.0</td>\n",
              "      <td>0.0</td>\n",
              "      <td>0.0</td>\n",
              "      <td>0.0</td>\n",
              "      <td>0.0</td>\n",
              "      <td>0.0</td>\n",
              "      <td>1.0</td>\n",
              "      <td>1</td>\n",
              "      <td>1</td>\n",
              "      <td>4</td>\n",
              "    </tr>\n",
              "    <tr>\n",
              "      <th>2</th>\n",
              "      <td>1.0</td>\n",
              "      <td>0.0</td>\n",
              "      <td>0.0</td>\n",
              "      <td>1.0</td>\n",
              "      <td>0.0</td>\n",
              "      <td>0.0</td>\n",
              "      <td>0.0</td>\n",
              "      <td>0.0</td>\n",
              "      <td>0.0</td>\n",
              "      <td>0.0</td>\n",
              "      <td>0.0</td>\n",
              "      <td>0.0</td>\n",
              "      <td>0.0</td>\n",
              "      <td>1.0</td>\n",
              "      <td>1</td>\n",
              "      <td>1</td>\n",
              "      <td>4</td>\n",
              "    </tr>\n",
              "    <tr>\n",
              "      <th>3</th>\n",
              "      <td>1.0</td>\n",
              "      <td>0.0</td>\n",
              "      <td>0.0</td>\n",
              "      <td>1.0</td>\n",
              "      <td>0.0</td>\n",
              "      <td>0.0</td>\n",
              "      <td>0.0</td>\n",
              "      <td>0.0</td>\n",
              "      <td>0.0</td>\n",
              "      <td>0.0</td>\n",
              "      <td>0.0</td>\n",
              "      <td>0.0</td>\n",
              "      <td>0.0</td>\n",
              "      <td>1.0</td>\n",
              "      <td>1</td>\n",
              "      <td>1</td>\n",
              "      <td>4</td>\n",
              "    </tr>\n",
              "    <tr>\n",
              "      <th>4</th>\n",
              "      <td>0.0</td>\n",
              "      <td>1.0</td>\n",
              "      <td>0.0</td>\n",
              "      <td>0.0</td>\n",
              "      <td>0.0</td>\n",
              "      <td>1.0</td>\n",
              "      <td>0.0</td>\n",
              "      <td>0.0</td>\n",
              "      <td>0.0</td>\n",
              "      <td>0.0</td>\n",
              "      <td>0.0</td>\n",
              "      <td>0.0</td>\n",
              "      <td>0.0</td>\n",
              "      <td>1.0</td>\n",
              "      <td>1</td>\n",
              "      <td>2</td>\n",
              "      <td>4</td>\n",
              "    </tr>\n",
              "    <tr>\n",
              "      <th>...</th>\n",
              "      <td>...</td>\n",
              "      <td>...</td>\n",
              "      <td>...</td>\n",
              "      <td>...</td>\n",
              "      <td>...</td>\n",
              "      <td>...</td>\n",
              "      <td>...</td>\n",
              "      <td>...</td>\n",
              "      <td>...</td>\n",
              "      <td>...</td>\n",
              "      <td>...</td>\n",
              "      <td>...</td>\n",
              "      <td>...</td>\n",
              "      <td>...</td>\n",
              "      <td>...</td>\n",
              "      <td>...</td>\n",
              "      <td>...</td>\n",
              "    </tr>\n",
              "    <tr>\n",
              "      <th>1158</th>\n",
              "      <td>0.0</td>\n",
              "      <td>1.0</td>\n",
              "      <td>0.0</td>\n",
              "      <td>0.0</td>\n",
              "      <td>0.0</td>\n",
              "      <td>1.0</td>\n",
              "      <td>0.0</td>\n",
              "      <td>0.0</td>\n",
              "      <td>0.0</td>\n",
              "      <td>0.0</td>\n",
              "      <td>0.0</td>\n",
              "      <td>0.0</td>\n",
              "      <td>0.0</td>\n",
              "      <td>1.0</td>\n",
              "      <td>1</td>\n",
              "      <td>1</td>\n",
              "      <td>4</td>\n",
              "    </tr>\n",
              "    <tr>\n",
              "      <th>1159</th>\n",
              "      <td>1.0</td>\n",
              "      <td>0.0</td>\n",
              "      <td>0.0</td>\n",
              "      <td>0.0</td>\n",
              "      <td>0.0</td>\n",
              "      <td>1.0</td>\n",
              "      <td>0.0</td>\n",
              "      <td>0.0</td>\n",
              "      <td>0.0</td>\n",
              "      <td>1.0</td>\n",
              "      <td>0.0</td>\n",
              "      <td>0.0</td>\n",
              "      <td>0.0</td>\n",
              "      <td>0.0</td>\n",
              "      <td>1</td>\n",
              "      <td>1</td>\n",
              "      <td>4</td>\n",
              "    </tr>\n",
              "    <tr>\n",
              "      <th>1160</th>\n",
              "      <td>1.0</td>\n",
              "      <td>0.0</td>\n",
              "      <td>0.0</td>\n",
              "      <td>0.0</td>\n",
              "      <td>0.0</td>\n",
              "      <td>1.0</td>\n",
              "      <td>0.0</td>\n",
              "      <td>0.0</td>\n",
              "      <td>0.0</td>\n",
              "      <td>1.0</td>\n",
              "      <td>0.0</td>\n",
              "      <td>0.0</td>\n",
              "      <td>0.0</td>\n",
              "      <td>0.0</td>\n",
              "      <td>1</td>\n",
              "      <td>1</td>\n",
              "      <td>4</td>\n",
              "    </tr>\n",
              "    <tr>\n",
              "      <th>1161</th>\n",
              "      <td>1.0</td>\n",
              "      <td>0.0</td>\n",
              "      <td>0.0</td>\n",
              "      <td>0.0</td>\n",
              "      <td>0.0</td>\n",
              "      <td>1.0</td>\n",
              "      <td>0.0</td>\n",
              "      <td>0.0</td>\n",
              "      <td>0.0</td>\n",
              "      <td>1.0</td>\n",
              "      <td>0.0</td>\n",
              "      <td>0.0</td>\n",
              "      <td>0.0</td>\n",
              "      <td>0.0</td>\n",
              "      <td>1</td>\n",
              "      <td>1</td>\n",
              "      <td>4</td>\n",
              "    </tr>\n",
              "    <tr>\n",
              "      <th>1162</th>\n",
              "      <td>1.0</td>\n",
              "      <td>0.0</td>\n",
              "      <td>0.0</td>\n",
              "      <td>0.0</td>\n",
              "      <td>0.0</td>\n",
              "      <td>1.0</td>\n",
              "      <td>0.0</td>\n",
              "      <td>0.0</td>\n",
              "      <td>0.0</td>\n",
              "      <td>1.0</td>\n",
              "      <td>0.0</td>\n",
              "      <td>0.0</td>\n",
              "      <td>0.0</td>\n",
              "      <td>0.0</td>\n",
              "      <td>1</td>\n",
              "      <td>1</td>\n",
              "      <td>4</td>\n",
              "    </tr>\n",
              "  </tbody>\n",
              "</table>\n",
              "<p>1163 rows × 17 columns</p>\n",
              "</div>\n",
              "      <button class=\"colab-df-convert\" onclick=\"convertToInteractive('df-fdfee75f-c629-48b6-8eaf-a5f5b3caafb4')\"\n",
              "              title=\"Convert this dataframe to an interactive table.\"\n",
              "              style=\"display:none;\">\n",
              "        \n",
              "  <svg xmlns=\"http://www.w3.org/2000/svg\" height=\"24px\"viewBox=\"0 0 24 24\"\n",
              "       width=\"24px\">\n",
              "    <path d=\"M0 0h24v24H0V0z\" fill=\"none\"/>\n",
              "    <path d=\"M18.56 5.44l.94 2.06.94-2.06 2.06-.94-2.06-.94-.94-2.06-.94 2.06-2.06.94zm-11 1L8.5 8.5l.94-2.06 2.06-.94-2.06-.94L8.5 2.5l-.94 2.06-2.06.94zm10 10l.94 2.06.94-2.06 2.06-.94-2.06-.94-.94-2.06-.94 2.06-2.06.94z\"/><path d=\"M17.41 7.96l-1.37-1.37c-.4-.4-.92-.59-1.43-.59-.52 0-1.04.2-1.43.59L10.3 9.45l-7.72 7.72c-.78.78-.78 2.05 0 2.83L4 21.41c.39.39.9.59 1.41.59.51 0 1.02-.2 1.41-.59l7.78-7.78 2.81-2.81c.8-.78.8-2.07 0-2.86zM5.41 20L4 18.59l7.72-7.72 1.47 1.35L5.41 20z\"/>\n",
              "  </svg>\n",
              "      </button>\n",
              "      \n",
              "  <style>\n",
              "    .colab-df-container {\n",
              "      display:flex;\n",
              "      flex-wrap:wrap;\n",
              "      gap: 12px;\n",
              "    }\n",
              "\n",
              "    .colab-df-convert {\n",
              "      background-color: #E8F0FE;\n",
              "      border: none;\n",
              "      border-radius: 50%;\n",
              "      cursor: pointer;\n",
              "      display: none;\n",
              "      fill: #1967D2;\n",
              "      height: 32px;\n",
              "      padding: 0 0 0 0;\n",
              "      width: 32px;\n",
              "    }\n",
              "\n",
              "    .colab-df-convert:hover {\n",
              "      background-color: #E2EBFA;\n",
              "      box-shadow: 0px 1px 2px rgba(60, 64, 67, 0.3), 0px 1px 3px 1px rgba(60, 64, 67, 0.15);\n",
              "      fill: #174EA6;\n",
              "    }\n",
              "\n",
              "    [theme=dark] .colab-df-convert {\n",
              "      background-color: #3B4455;\n",
              "      fill: #D2E3FC;\n",
              "    }\n",
              "\n",
              "    [theme=dark] .colab-df-convert:hover {\n",
              "      background-color: #434B5C;\n",
              "      box-shadow: 0px 1px 3px 1px rgba(0, 0, 0, 0.15);\n",
              "      filter: drop-shadow(0px 1px 2px rgba(0, 0, 0, 0.3));\n",
              "      fill: #FFFFFF;\n",
              "    }\n",
              "  </style>\n",
              "\n",
              "      <script>\n",
              "        const buttonEl =\n",
              "          document.querySelector('#df-fdfee75f-c629-48b6-8eaf-a5f5b3caafb4 button.colab-df-convert');\n",
              "        buttonEl.style.display =\n",
              "          google.colab.kernel.accessAllowed ? 'block' : 'none';\n",
              "\n",
              "        async function convertToInteractive(key) {\n",
              "          const element = document.querySelector('#df-fdfee75f-c629-48b6-8eaf-a5f5b3caafb4');\n",
              "          const dataTable =\n",
              "            await google.colab.kernel.invokeFunction('convertToInteractive',\n",
              "                                                     [key], {});\n",
              "          if (!dataTable) return;\n",
              "\n",
              "          const docLinkHtml = 'Like what you see? Visit the ' +\n",
              "            '<a target=\"_blank\" href=https://colab.research.google.com/notebooks/data_table.ipynb>data table notebook</a>'\n",
              "            + ' to learn more about interactive tables.';\n",
              "          element.innerHTML = '';\n",
              "          dataTable['output_type'] = 'display_data';\n",
              "          await google.colab.output.renderOutput(dataTable, element);\n",
              "          const docLink = document.createElement('div');\n",
              "          docLink.innerHTML = docLinkHtml;\n",
              "          element.appendChild(docLink);\n",
              "        }\n",
              "      </script>\n",
              "    </div>\n",
              "  </div>\n",
              "  "
            ]
          },
          "metadata": {},
          "execution_count": 12
        }
      ]
    },
    {
      "cell_type": "code",
      "source": [
        "X2, y2 =  df2, df_veh['Comb Unadj FE - Conventional Fuel']\n",
        "model2, oob_score2 = evaluate(X2, y2) #Model with categorial variables"
      ],
      "metadata": {
        "id": "KZxMXhDaDbGh",
        "outputId": "84e5ec69-4905-4741-f1c5-7af5f7403cba",
        "colab": {
          "base_uri": "https://localhost:8080/"
        }
      },
      "execution_count": null,
      "outputs": [
        {
          "output_type": "stream",
          "name": "stdout",
          "text": [
            "Average OOB score over 10 runs for model: 0.4115\n"
          ]
        }
      ]
    },
    {
      "cell_type": "markdown",
      "source": [],
      "metadata": {
        "id": "PDW87b7iZJF4"
      }
    },
    {
      "cell_type": "markdown",
      "metadata": {
        "id": "g5PuJKrWO_2J"
      },
      "source": [
        "Explanation (25 marks)\n",
        "\n",
        "Please provide an explanation for each conversion from non-numeric to numeric and state why this conversion is appropriate. Please also provide an explanation of the new feature created.\n",
        "\n"
      ]
    },
    {
      "cell_type": "markdown",
      "source": [
        "what we are doing|Why we are using the code|Reason\n",
        "--|--|---|\n",
        "Subset of the dataset|we selected five features from the dataset which are 'Fuel Metering Sys Desc', 'Air Aspiration Method Desc', 'Trans Desc', 'Cyl Deact?', and 'Var Valve Lift?'and we loop to iterates the col with the unique values|These features are of interest to us\n",
        "one-hot encoding|here the specified feature column in our data, replacing the original column with the encoded columns and also replacement of 'None or Unspecified' values with NaN before the encoding process| The ideal is to transform or induce the require numerical representations of categorical variables which will enable seamless integration of the features into machine learning algorithms, facilitating accurate analysis and modeling processes.\n",
        "concat| This line concatenates the original DataFrame (df) with the one-hot encoded DataFrame (onehot). The concat function is used with axis=1 to concatenate the DataFrames , |We want to add the one-hot encoded columns to the original dataset column-wise\n",
        "convertingBol| it enables us in the transformation of a boolean feature column into numerical representations, supplying the mapped numerical column as well as an additional categorical column with integer codes. | This is helpful When working with boolean features in various forms or when using machine learning methods task that call for numerical inputs.\n",
        "X2, y2 |There is need to  separates the dataset into input features and the target variable.|Here, The column 'Comb Unadj FE - Conventional Fuel' from the DataFrame df_veh is assigned to the variable y2, representing the target variable.\n",
        "The evaluate|To be able  to train a model using the provided features and target variable and obtain the trained model|To get the model to be evaluated\n",
        "oob_score|we want to know the model's performance on unseen data based on samples not used during training|accuracy of the model\n"
      ],
      "metadata": {
        "id": "Z4GdVV-YabqQ"
      }
    },
    {
      "cell_type": "markdown",
      "metadata": {
        "id": "3ERpKqq3O_2J"
      },
      "source": [
        "### Part 3 - Create and evaluate a final model\n",
        "\n",
        "In this part you should:\n",
        " - create and evaluate a model using all the features from Parts 1 and 2 above\n",
        "\n",
        "#### Code (15 marks)"
      ]
    },
    {
      "cell_type": "code",
      "execution_count": null,
      "metadata": {
        "colab": {
          "base_uri": "https://localhost:8080/"
        },
        "id": "ZKs4t12hO_2K",
        "outputId": "90d02278-6113-46a5-fc06-e8efac3a8835"
      },
      "outputs": [
        {
          "output_type": "execute_result",
          "data": {
            "text/plain": [
              "Index(['Eng Displ', '# Cyl', '# Gears', 'Max Ethanol % - Gasoline',\n",
              "       'Intake Valves Per Cyl', 'Exhaust Valves Per Cyl',\n",
              "       'Fuel Sys_Multipoint/sequential fuel injection',\n",
              "       'Fuel Sys_Spark Ignition Direct Injection',\n",
              "       'Fuel Sys_Spark Ignition direct & ported injection',\n",
              "       'Air Asp_Naturally Aspirated', 'Air Asp_Supercharged',\n",
              "       'Air Asp_Turbocharged', 'Air Asp_Turbocharged+Supercharged',\n",
              "       'Trans Desc_Automated Manual',\n",
              "       'Trans Desc_Automated Manual- Selectable (e.g. Automated Manual with paddles)',\n",
              "       'Trans Desc_Automatic', 'Trans Desc_Continuously Variable',\n",
              "       'Trans Desc_Manual',\n",
              "       'Trans Desc_Selectable Continuously Variable (e.g. CVT with paddles)',\n",
              "       'Trans Desc_Semi-Automatic', 'Cyl Deact?_cat', 'Var Valve Lift?_cat',\n",
              "       'Valves Per Cyl'],\n",
              "      dtype='object')"
            ]
          },
          "metadata": {},
          "execution_count": 14
        }
      ],
      "source": [
        "df3 = pd.concat([df_veh.drop('Comb Unadj FE - Conventional Fuel', axis = 1), df2], axis=1)\n",
        "df3.columns"
      ]
    },
    {
      "cell_type": "code",
      "source": [
        "X3, y3 =  df3, df_veh['Comb Unadj FE - Conventional Fuel']\n",
        "model3, oob_score3 = evaluate(X3, y3)"
      ],
      "metadata": {
        "id": "bpBycdzyLEbZ",
        "outputId": "4c345983-8fa8-48d1-df53-ae5f9c353d9e",
        "colab": {
          "base_uri": "https://localhost:8080/"
        }
      },
      "execution_count": null,
      "outputs": [
        {
          "output_type": "stream",
          "name": "stdout",
          "text": [
            "Average OOB score over 10 runs for model: 0.8784\n"
          ]
        }
      ]
    },
    {
      "cell_type": "markdown",
      "metadata": {
        "id": "0goNOnyOO_2K"
      },
      "source": [
        "### Part 4 - Feature importances and comparison (10 marks)\n",
        "\n",
        "In this part you should:\n",
        " - calculate the percent difference between the results of Part 1 and Part 3 (make sure you are using the correct formula for percent difference)\n",
        " - based on the percent difference, state whether or not the results of Part 3 are an improvement over the results of Part 1\n",
        " - use the `rfpimp` package to calculate and display the feature importances for all features"
      ]
    },
    {
      "cell_type": "code",
      "execution_count": null,
      "metadata": {
        "colab": {
          "base_uri": "https://localhost:8080/"
        },
        "id": "sXCYShJXO_2K",
        "outputId": "4d96b24f-1ea6-416a-a052-e448bc1eb704"
      },
      "outputs": [
        {
          "output_type": "stream",
          "name": "stdout",
          "text": [
            "0.7224172448368936\n",
            "0.8783529577102938\n"
          ]
        }
      ],
      "source": [
        "print(oob_score1)\n",
        "print(oob_score3)"
      ]
    },
    {
      "cell_type": "code",
      "execution_count": null,
      "metadata": {
        "colab": {
          "base_uri": "https://localhost:8080/"
        },
        "id": "uYLhsDXynGZj",
        "outputId": "e7cc012e-7cbb-4784-acc7-dba249798f6e"
      },
      "outputs": [
        {
          "output_type": "stream",
          "name": "stdout",
          "text": [
            "The percent difference between the results of Part 1 and Part 3 is: 19.48%\n"
          ]
        }
      ],
      "source": [
        "percent_difference = abs(oob_score1 - oob_score3) / ((oob_score1 + oob_score3) / 2) * 100\n",
        "print(f\"The percent difference between the results of Part 1 and Part 3 is: {percent_difference:.2f}%\")"
      ]
    },
    {
      "cell_type": "code",
      "source": [
        "def showimp(rf, X, y):\n",
        "    features = list(X.columns)\n",
        "    I = importances(rf, X, y, features=features)\n",
        "    plot_importances(I, color='#4575b4')"
      ],
      "metadata": {
        "id": "4Ng6hrwkL-4x"
      },
      "execution_count": null,
      "outputs": []
    },
    {
      "cell_type": "code",
      "execution_count": null,
      "metadata": {
        "colab": {
          "base_uri": "https://localhost:8080/",
          "height": 157
        },
        "id": "nQXCeLJInJtl",
        "outputId": "9840bb03-5a53-412f-ce34-2f033752b90c"
      },
      "outputs": [
        {
          "output_type": "display_data",
          "data": {
            "text/plain": [
              "<Figure size 400x150 with 1 Axes>"
            ],
            "image/png": "[encoded data removed]"
          },
          "metadata": {}
        }
      ],
      "source": [
        "# Display feature importances for Part 1\n",
        "showimp(model1, X, y)"
      ]
    },
    {
      "cell_type": "code",
      "execution_count": null,
      "metadata": {
        "colab": {
          "base_uri": "https://localhost:8080/",
          "height": 506
        },
        "id": "36n7M0GmnYxI",
        "outputId": "6a928a47-c03b-4ac9-e34b-04e58108d162"
      },
      "outputs": [
        {
          "output_type": "stream",
          "name": "stderr",
          "text": [
            "/usr/local/lib/python3.10/dist-packages/rfpimp.py:52: UserWarning: Tight layout not applied. The left and right margins cannot be made large enough to accommodate all axes decorations.\n",
            "  plt.tight_layout()\n"
          ]
        },
        {
          "output_type": "display_data",
          "data": {
            "text/plain": [
              "<Figure size 400x508 with 1 Axes>"
            ],
            "image/png": "[encoded data removed]"
          },
          "metadata": {}
        }
      ],
      "source": [
        "# Display feature importances for Part 3\n",
        "showimp(model3, X3, y3)"
      ]
    },
    {
      "cell_type": "markdown",
      "metadata": {
        "id": "zZ22GKJcO_2K"
      },
      "source": [
        "#### Question (5 marks)\n",
        "\n",
        "Based on the feature importances, are any features that you think should be removed from the data set.  Why do you think these features should be removed?"
      ]
    },
    {
      "cell_type": "markdown",
      "metadata": {
        "id": "m4xaJ8olbg9k"
      },
      "source": [
        "Features to be removed:\n",
        "\n",
        "1. Exhaust Valves Per Cyl\n",
        "2. Air Asp_Turbocharged+Supercharged\n",
        "3. Air Asp_Supercharged\n",
        "4. Trans Desc_Automated Manual- Selectable (e.g. Automated Manual with paddles)\n",
        "5. Cyl Deact?_cat\n",
        "6. Trans Desc_Manual\n",
        "7. Fuel Sys_Multipoint/sequential fuel injection\n",
        "8. Fuel Sys_Spark Ignition Direct Injection\n",
        "\n",
        "These features could potentially be removed because they have low feature importances in both Part 1 and Part 3. Low feature importances indicate that these features have less impact or correlation with the target variable, 'Comb Unadj FE - Conventional Fuel'. Removing such features can simplify the model and potentially improve its performance by reducing noise or irrelevant information.\n"
      ]
    },
    {
      "cell_type": "code",
      "execution_count": null,
      "metadata": {
        "id": "xNoIuKqybg9l",
        "outputId": "88522f63-2a13-44b5-c941-e45d48aadc82",
        "colab": {
          "base_uri": "https://localhost:8080/"
        }
      },
      "outputs": [
        {
          "output_type": "stream",
          "name": "stdout",
          "text": [
            "Average OOB score over 10 runs for model: 0.8746\n"
          ]
        }
      ],
      "source": [
        "final_fetures = ['Eng Displ',\n",
        "                 '# Cyl',\n",
        "                 '# Gears',\n",
        "                 'Max Ethanol % - Gasoline',\n",
        "                 'Fuel Sys_Spark Ignition direct & ported injection',\n",
        "                 'Air Asp_Naturally Aspirated',\n",
        "                 'Air Asp_Turbocharged',\n",
        "                 'Trans Desc_Automated Manual',\n",
        "                 'Trans Desc_Continuously Variable',\n",
        "                 'Trans Desc_Selectable Continuously Variable (e.g. CVT with paddles)',\n",
        "                 'Var Valve Lift?_cat',\n",
        "                 'Trans Desc_Semi-Automatic',\n",
        "                 'Trans Desc_Automatic']\n",
        "\n",
        "X4, y4 = df3[final_fetures], df_veh['Comb Unadj FE - Conventional Fuel']\n",
        "model4, oob_score4 = evaluate(X4, y4)"
      ]
    },
    {
      "cell_type": "code",
      "source": [
        "showimp(model4, X4, y4)"
      ],
      "metadata": {
        "id": "zdsO-bTkQWP6",
        "outputId": "7b092379-6f71-441c-807a-ae209da34555",
        "colab": {
          "base_uri": "https://localhost:8080/",
          "height": 337
        }
      },
      "execution_count": null,
      "outputs": [
        {
          "output_type": "stream",
          "name": "stderr",
          "text": [
            "/usr/local/lib/python3.10/dist-packages/rfpimp.py:52: UserWarning: Tight layout not applied. The left and right margins cannot be made large enough to accommodate all axes decorations.\n",
            "  plt.tight_layout()\n"
          ]
        },
        {
          "output_type": "display_data",
          "data": {
            "text/plain": [
              "<Figure size 400x288 with 1 Axes>"
            ],
            "image/png": "[encoded data removed]"
          },
          "metadata": {}
        }
      ]
    },
    {
      "cell_type": "code",
      "source": [
        "print(oob_score3)\n",
        "print(oob_score4)"
      ],
      "metadata": {
        "id": "3ohj6RBnZlz7",
        "outputId": "5e3d0122-a030-4536-9963-07ee2f84cd18",
        "colab": {
          "base_uri": "https://localhost:8080/"
        }
      },
      "execution_count": null,
      "outputs": [
        {
          "output_type": "stream",
          "name": "stdout",
          "text": [
            "0.8783529577102938\n",
            "0.8746041961433402\n"
          ]
        }
      ]
    },
    {
      "cell_type": "code",
      "source": [
        "percent_difference2 = abs(oob_score3 - oob_score4) / ((oob_score3 + oob_score4) / 2) * 100\n",
        "print(f\"The percent difference between the results of Part 3 and Part 4 is: {percent_difference2:.2f}%\")"
      ],
      "metadata": {
        "id": "J7g3g06CZXSj",
        "outputId": "9699c513-5440-487a-a7f5-c5d501da67f1",
        "colab": {
          "base_uri": "https://localhost:8080/"
        }
      },
      "execution_count": null,
      "outputs": [
        {
          "output_type": "stream",
          "name": "stdout",
          "text": [
            "The percent difference between the results of Part 1 and Part 3 is: 0.43%\n"
          ]
        }
      ]
    }
  ],
  "metadata": {
    "colab": {
      "provenance": []
    },
    "kernelspec": {
      "display_name": "Python 3 (ipykernel)",
      "language": "python",
      "name": "python3"
    },
    "language_info": {
      "codemirror_mode": {
        "name": "ipython",
        "version": 3
      },
      "file_extension": ".py",
      "mimetype": "text/x-python",
      "name": "python",
      "nbconvert_exporter": "python",
      "pygments_lexer": "ipython3",
      "version": "3.9.7"
    }
  },
  "nbformat": 4,
  "nbformat_minor": 0
}